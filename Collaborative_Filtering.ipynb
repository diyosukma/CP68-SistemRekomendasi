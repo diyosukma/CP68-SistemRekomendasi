{
  "nbformat": 4,
  "nbformat_minor": 0,
  "metadata": {
    "colab": {
      "name": "Collaborative Filtering.ipynb",
      "provenance": [],
      "authorship_tag": "ABX9TyObzec3s//II+gnugk0EtyS",
      "include_colab_link": true
    },
    "kernelspec": {
      "name": "python3",
      "display_name": "Python 3"
    },
    "language_info": {
      "name": "python"
    },
    "accelerator": "TPU"
  },
  "cells": [
    {
      "cell_type": "markdown",
      "metadata": {
        "id": "view-in-github",
        "colab_type": "text"
      },
      "source": [
        "<a href=\"https://colab.research.google.com/github/diyosukma/CP68-SistemRekomendasi/blob/main/Collaborative_Filtering.ipynb\" target=\"_parent\"><img src=\"https://colab.research.google.com/assets/colab-badge.svg\" alt=\"Open In Colab\"/></a>"
      ]
    },
    {
      "cell_type": "code",
      "execution_count": 1,
      "metadata": {
        "id": "ycSlUExzcVOk"
      },
      "outputs": [],
      "source": [
        "import pandas as pd\n",
        "import numpy as np\n",
        "import nltk\n",
        "#nltk.download()\n",
        "import matplotlib.pyplot as plt\n",
        "import seaborn as sns\n",
        "%matplotlib inline\n",
        "#nltk.download('punkt')\n",
        "#nltk.download('stopwords')\n",
        "#nltk.download('wordnet')\n",
        "#nltk.download('averaged_perceptron_tagger')\n",
        "from nltk.corpus import stopwords\n",
        "import re\n",
        "import string\n",
        "from nltk.stem import WordNetLemmatizer\n",
        "from nltk import word_tokenize\n",
        "from nltk.corpus import stopwords\n",
        "from sklearn.feature_extraction.text import TfidfVectorizer\n",
        "from sklearn.metrics.pairwise import cosine_similarity\n",
        "from sklearn.feature_extraction.text import CountVectorizer\n",
        "from sklearn.neighbors import NearestNeighbors"
      ]
    },
    {
      "cell_type": "code",
      "source": [
        "eskul = pd.read_excel('eskul.xlsx')\n",
        "mbtes = pd.read_excel('mbtes.xlsx')\n",
        "nilai = pd.read_excel('hasilmb.xlsx')"
      ],
      "metadata": {
        "id": "DY6K06Ptcsgr"
      },
      "execution_count": 2,
      "outputs": []
    },
    {
      "cell_type": "code",
      "source": [
        "eskul"
      ],
      "metadata": {
        "colab": {
          "base_uri": "https://localhost:8080/",
          "height": 617
        },
        "id": "R8Yehcipc_mc",
        "outputId": "bd34ef31-7a39-4deb-9a36-048a249c46f0"
      },
      "execution_count": 3,
      "outputs": [
        {
          "output_type": "execute_result",
          "data": {
            "text/html": [
              "<div>\n",
              "<style scoped>\n",
              "    .dataframe tbody tr th:only-of-type {\n",
              "        vertical-align: middle;\n",
              "    }\n",
              "\n",
              "    .dataframe tbody tr th {\n",
              "        vertical-align: top;\n",
              "    }\n",
              "\n",
              "    .dataframe thead th {\n",
              "        text-align: right;\n",
              "    }\n",
              "</style>\n",
              "<table border=\"1\" class=\"dataframe\">\n",
              "  <thead>\n",
              "    <tr style=\"text-align: right;\">\n",
              "      <th></th>\n",
              "      <th>user_id</th>\n",
              "      <th>nama</th>\n",
              "      <th>asal_sekolah</th>\n",
              "      <th>sulit_memilih</th>\n",
              "      <th>gender</th>\n",
              "      <th>agama</th>\n",
              "      <th>jurusan</th>\n",
              "      <th>bidang_eskul</th>\n",
              "      <th>bidang_id</th>\n",
              "      <th>pekerjaan_ibu</th>\n",
              "      <th>pekerjaan_bapak</th>\n",
              "      <th>sungguh_berkegiatan</th>\n",
              "      <th>minatbakat_tersalurkan</th>\n",
              "      <th>alasan_memilih</th>\n",
              "      <th>teman_berpengaruh</th>\n",
              "      <th>lama_pertemuan</th>\n",
              "      <th>banyak_pertemuan</th>\n",
              "    </tr>\n",
              "  </thead>\n",
              "  <tbody>\n",
              "    <tr>\n",
              "      <th>0</th>\n",
              "      <td>10</td>\n",
              "      <td>Siswa01</td>\n",
              "      <td>SMA Negeri 5 Sukabumi</td>\n",
              "      <td>Tidak</td>\n",
              "      <td>Laki-laki</td>\n",
              "      <td>Islam</td>\n",
              "      <td>IPS</td>\n",
              "      <td>Kesenian</td>\n",
              "      <td>1</td>\n",
              "      <td>Ibu Rumah Tangga</td>\n",
              "      <td>Wiraswasta</td>\n",
              "      <td>Ya</td>\n",
              "      <td>Ya</td>\n",
              "      <td>Tekad dari diri sendiri</td>\n",
              "      <td>Ya</td>\n",
              "      <td>Lebih dari 1 Jam</td>\n",
              "      <td>2 Kali Seminggu</td>\n",
              "    </tr>\n",
              "    <tr>\n",
              "      <th>1</th>\n",
              "      <td>20</td>\n",
              "      <td>Siswa02</td>\n",
              "      <td>SMA Negeri 5 Sukabumi</td>\n",
              "      <td>Tidak</td>\n",
              "      <td>Laki-laki</td>\n",
              "      <td>Islam</td>\n",
              "      <td>IPS</td>\n",
              "      <td>Olahraga</td>\n",
              "      <td>2</td>\n",
              "      <td>Ibu Rumah Tangga</td>\n",
              "      <td>Wiraswasta</td>\n",
              "      <td>Ya</td>\n",
              "      <td>Ya</td>\n",
              "      <td>Tekad dari diri sendiri</td>\n",
              "      <td>Ya</td>\n",
              "      <td>Lebih dari 1 Jam</td>\n",
              "      <td>2 Kali Seminggu</td>\n",
              "    </tr>\n",
              "    <tr>\n",
              "      <th>2</th>\n",
              "      <td>30</td>\n",
              "      <td>Siswa03</td>\n",
              "      <td>SMA Negeri 1 Kota Sukabumi</td>\n",
              "      <td>Tidak</td>\n",
              "      <td>Perempuan</td>\n",
              "      <td>Islam</td>\n",
              "      <td>IPA</td>\n",
              "      <td>Akademik &amp; Kebahasaan</td>\n",
              "      <td>3</td>\n",
              "      <td>Ibu rumah tangga</td>\n",
              "      <td>PNS</td>\n",
              "      <td>Ya</td>\n",
              "      <td>Ya</td>\n",
              "      <td>Tekad dari diri sendiri</td>\n",
              "      <td>Ya</td>\n",
              "      <td>1 Jam</td>\n",
              "      <td>1 Kali Seminggu</td>\n",
              "    </tr>\n",
              "    <tr>\n",
              "      <th>3</th>\n",
              "      <td>40</td>\n",
              "      <td>Siswa04</td>\n",
              "      <td>SMAN 1CIBADAK</td>\n",
              "      <td>Tidak</td>\n",
              "      <td>Perempuan</td>\n",
              "      <td>Islam</td>\n",
              "      <td>IPA</td>\n",
              "      <td>Olahraga</td>\n",
              "      <td>2</td>\n",
              "      <td>PNS</td>\n",
              "      <td>PNS</td>\n",
              "      <td>Ya</td>\n",
              "      <td>Ya</td>\n",
              "      <td>Tekad dari diri sendiri</td>\n",
              "      <td>Tidak</td>\n",
              "      <td>Lebih dari 1 Jam</td>\n",
              "      <td>2 Kali Seminggu</td>\n",
              "    </tr>\n",
              "    <tr>\n",
              "      <th>4</th>\n",
              "      <td>50</td>\n",
              "      <td>Siswa05</td>\n",
              "      <td>SMAN 1CIBADAK</td>\n",
              "      <td>Tidak</td>\n",
              "      <td>Perempuan</td>\n",
              "      <td>Islam</td>\n",
              "      <td>IPA</td>\n",
              "      <td>Kesenian</td>\n",
              "      <td>1</td>\n",
              "      <td>PNS</td>\n",
              "      <td>PNS</td>\n",
              "      <td>Ya</td>\n",
              "      <td>Ya</td>\n",
              "      <td>Tekad dari diri sendiri</td>\n",
              "      <td>Tidak</td>\n",
              "      <td>Lebih dari 1 Jam</td>\n",
              "      <td>2 Kali Seminggu</td>\n",
              "    </tr>\n",
              "    <tr>\n",
              "      <th>...</th>\n",
              "      <td>...</td>\n",
              "      <td>...</td>\n",
              "      <td>...</td>\n",
              "      <td>...</td>\n",
              "      <td>...</td>\n",
              "      <td>...</td>\n",
              "      <td>...</td>\n",
              "      <td>...</td>\n",
              "      <td>...</td>\n",
              "      <td>...</td>\n",
              "      <td>...</td>\n",
              "      <td>...</td>\n",
              "      <td>...</td>\n",
              "      <td>...</td>\n",
              "      <td>...</td>\n",
              "      <td>...</td>\n",
              "      <td>...</td>\n",
              "    </tr>\n",
              "    <tr>\n",
              "      <th>288</th>\n",
              "      <td>2890</td>\n",
              "      <td>Siswa289</td>\n",
              "      <td>SMA 1 Semarang</td>\n",
              "      <td>Tidak</td>\n",
              "      <td>Perempuan</td>\n",
              "      <td>Islam</td>\n",
              "      <td>IPS</td>\n",
              "      <td>Lingkungan Hidup</td>\n",
              "      <td>6</td>\n",
              "      <td>IRT</td>\n",
              "      <td>Sopir</td>\n",
              "      <td>Ya</td>\n",
              "      <td>Ya</td>\n",
              "      <td>Tekad dari diri sendiri</td>\n",
              "      <td>Ya</td>\n",
              "      <td>Lebih dari 1 Jam</td>\n",
              "      <td>1 Kali Seminggu</td>\n",
              "    </tr>\n",
              "    <tr>\n",
              "      <th>289</th>\n",
              "      <td>2900</td>\n",
              "      <td>Siswa290</td>\n",
              "      <td>SMA 1 Surakarta</td>\n",
              "      <td>Ya</td>\n",
              "      <td>Laki-laki</td>\n",
              "      <td>Kristen Protestan</td>\n",
              "      <td>IPA</td>\n",
              "      <td>Akademik &amp; Kebahasaan</td>\n",
              "      <td>3</td>\n",
              "      <td>IRT</td>\n",
              "      <td>Karyawan perusahaan</td>\n",
              "      <td>Ya</td>\n",
              "      <td>Ya</td>\n",
              "      <td>Tekad dari diri sendiri</td>\n",
              "      <td>Ya</td>\n",
              "      <td>Lebih dari 1 Jam</td>\n",
              "      <td>2 Kali Seminggu</td>\n",
              "    </tr>\n",
              "    <tr>\n",
              "      <th>290</th>\n",
              "      <td>2910</td>\n",
              "      <td>Siswa291</td>\n",
              "      <td>SMA 1 Surakarta</td>\n",
              "      <td>Ya</td>\n",
              "      <td>Laki-laki</td>\n",
              "      <td>Kristen Protestan</td>\n",
              "      <td>IPA</td>\n",
              "      <td>IT</td>\n",
              "      <td>5</td>\n",
              "      <td>IRT</td>\n",
              "      <td>Karyawan perusahaan</td>\n",
              "      <td>Ya</td>\n",
              "      <td>Ya</td>\n",
              "      <td>Tekad dari diri sendiri</td>\n",
              "      <td>Ya</td>\n",
              "      <td>Lebih dari 1 Jam</td>\n",
              "      <td>2 Kali Seminggu</td>\n",
              "    </tr>\n",
              "    <tr>\n",
              "      <th>291</th>\n",
              "      <td>2920</td>\n",
              "      <td>Siswa292</td>\n",
              "      <td>SMA 6 Jakarta</td>\n",
              "      <td>Ya</td>\n",
              "      <td>Perempuan</td>\n",
              "      <td>Kristen Katolik</td>\n",
              "      <td>IPA</td>\n",
              "      <td>Akademik &amp; Kebahasaan</td>\n",
              "      <td>3</td>\n",
              "      <td>Ibu rumah tangga</td>\n",
              "      <td>Pegawai bank</td>\n",
              "      <td>Ya</td>\n",
              "      <td>Ya</td>\n",
              "      <td>Tekad dari diri sendiri</td>\n",
              "      <td>Ya</td>\n",
              "      <td>Lebih dari 1 Jam</td>\n",
              "      <td>1 Kali Seminggu</td>\n",
              "    </tr>\n",
              "    <tr>\n",
              "      <th>292</th>\n",
              "      <td>2930</td>\n",
              "      <td>Siswa293</td>\n",
              "      <td>SMA 6 Jakarta</td>\n",
              "      <td>Ya</td>\n",
              "      <td>Perempuan</td>\n",
              "      <td>Kristen Katolik</td>\n",
              "      <td>IPA</td>\n",
              "      <td>IT</td>\n",
              "      <td>5</td>\n",
              "      <td>Ibu rumah tangga</td>\n",
              "      <td>Pegawai bank</td>\n",
              "      <td>Ya</td>\n",
              "      <td>Ya</td>\n",
              "      <td>Tekad dari diri sendiri</td>\n",
              "      <td>Ya</td>\n",
              "      <td>Lebih dari 1 Jam</td>\n",
              "      <td>1 Kali Seminggu</td>\n",
              "    </tr>\n",
              "  </tbody>\n",
              "</table>\n",
              "<p>293 rows × 17 columns</p>\n",
              "</div>"
            ],
            "text/plain": [
              "     user_id      nama  ...    lama_pertemuan banyak_pertemuan\n",
              "0         10   Siswa01  ...  Lebih dari 1 Jam  2 Kali Seminggu\n",
              "1         20   Siswa02  ...  Lebih dari 1 Jam  2 Kali Seminggu\n",
              "2         30   Siswa03  ...             1 Jam  1 Kali Seminggu\n",
              "3         40   Siswa04  ...  Lebih dari 1 Jam  2 Kali Seminggu\n",
              "4         50   Siswa05  ...  Lebih dari 1 Jam  2 Kali Seminggu\n",
              "..       ...       ...  ...               ...              ...\n",
              "288     2890  Siswa289  ...  Lebih dari 1 Jam  1 Kali Seminggu\n",
              "289     2900  Siswa290  ...  Lebih dari 1 Jam  2 Kali Seminggu\n",
              "290     2910  Siswa291  ...  Lebih dari 1 Jam  2 Kali Seminggu\n",
              "291     2920  Siswa292  ...  Lebih dari 1 Jam  1 Kali Seminggu\n",
              "292     2930  Siswa293  ...  Lebih dari 1 Jam  1 Kali Seminggu\n",
              "\n",
              "[293 rows x 17 columns]"
            ]
          },
          "metadata": {},
          "execution_count": 3
        }
      ]
    },
    {
      "cell_type": "code",
      "source": [
        "#Mengecek dan mengembalikan type data.\n",
        "def getEskulFrame(eskul):\n",
        "    if isinstance(eskul, int):\n",
        "        return eskul[eskul.user_id == eskul]\n",
        "    if isinstance(eskul, str):\n",
        "        return eskul[eskul.nama == eskul]"
      ],
      "metadata": {
        "id": "BVa_9iJcdCrf"
      },
      "execution_count": 4,
      "outputs": []
    },
    {
      "cell_type": "code",
      "source": [
        "mbtes"
      ],
      "metadata": {
        "colab": {
          "base_uri": "https://localhost:8080/",
          "height": 424
        },
        "id": "RFjr8HSRdpqj",
        "outputId": "393c26b9-cc9f-455b-e92d-f27421e819b5"
      },
      "execution_count": 5,
      "outputs": [
        {
          "output_type": "execute_result",
          "data": {
            "text/html": [
              "<div>\n",
              "<style scoped>\n",
              "    .dataframe tbody tr th:only-of-type {\n",
              "        vertical-align: middle;\n",
              "    }\n",
              "\n",
              "    .dataframe tbody tr th {\n",
              "        vertical-align: top;\n",
              "    }\n",
              "\n",
              "    .dataframe thead th {\n",
              "        text-align: right;\n",
              "    }\n",
              "</style>\n",
              "<table border=\"1\" class=\"dataframe\">\n",
              "  <thead>\n",
              "    <tr style=\"text-align: right;\">\n",
              "      <th></th>\n",
              "      <th>mb_id</th>\n",
              "      <th>nama</th>\n",
              "      <th>minat_bakat</th>\n",
              "    </tr>\n",
              "  </thead>\n",
              "  <tbody>\n",
              "    <tr>\n",
              "      <th>0</th>\n",
              "      <td>5</td>\n",
              "      <td>Siswa01</td>\n",
              "      <td>Cenderung menyukai untuk bekerja secara berkel...</td>\n",
              "    </tr>\n",
              "    <tr>\n",
              "      <th>1</th>\n",
              "      <td>10</td>\n",
              "      <td>Siswa02</td>\n",
              "      <td>Cenderung menyukai untuk bekerja secara berkel...</td>\n",
              "    </tr>\n",
              "    <tr>\n",
              "      <th>2</th>\n",
              "      <td>15</td>\n",
              "      <td>Siswa03</td>\n",
              "      <td>Menggemari kegiatan yang melibatkan tulisan, M...</td>\n",
              "    </tr>\n",
              "    <tr>\n",
              "      <th>3</th>\n",
              "      <td>20</td>\n",
              "      <td>Siswa04</td>\n",
              "      <td>Mempertimbangkan baik sisi plus ataupun minus ...</td>\n",
              "    </tr>\n",
              "    <tr>\n",
              "      <th>4</th>\n",
              "      <td>25</td>\n",
              "      <td>Siswa05</td>\n",
              "      <td>Mempertimbangkan baik sisi plus ataupun minus ...</td>\n",
              "    </tr>\n",
              "    <tr>\n",
              "      <th>...</th>\n",
              "      <td>...</td>\n",
              "      <td>...</td>\n",
              "      <td>...</td>\n",
              "    </tr>\n",
              "    <tr>\n",
              "      <th>288</th>\n",
              "      <td>1445</td>\n",
              "      <td>Siswa289</td>\n",
              "      <td>Gemar menuangkan ide dalam bentuk tulisan atau...</td>\n",
              "    </tr>\n",
              "    <tr>\n",
              "      <th>289</th>\n",
              "      <td>1450</td>\n",
              "      <td>Siswa290</td>\n",
              "      <td>Menggemari kegiatan yang melibatkan tulisan, M...</td>\n",
              "    </tr>\n",
              "    <tr>\n",
              "      <th>290</th>\n",
              "      <td>1455</td>\n",
              "      <td>Siswa291</td>\n",
              "      <td>Menggemari kegiatan yang melibatkan tulisan, M...</td>\n",
              "    </tr>\n",
              "    <tr>\n",
              "      <th>291</th>\n",
              "      <td>1460</td>\n",
              "      <td>Siswa292</td>\n",
              "      <td>Gemar menuangkan ide dalam bentuk tulisan atau...</td>\n",
              "    </tr>\n",
              "    <tr>\n",
              "      <th>292</th>\n",
              "      <td>1465</td>\n",
              "      <td>Siswa293</td>\n",
              "      <td>Gemar menuangkan ide dalam bentuk tulisan atau...</td>\n",
              "    </tr>\n",
              "  </tbody>\n",
              "</table>\n",
              "<p>293 rows × 3 columns</p>\n",
              "</div>"
            ],
            "text/plain": [
              "     mb_id      nama                                        minat_bakat\n",
              "0        5   Siswa01  Cenderung menyukai untuk bekerja secara berkel...\n",
              "1       10   Siswa02  Cenderung menyukai untuk bekerja secara berkel...\n",
              "2       15   Siswa03  Menggemari kegiatan yang melibatkan tulisan, M...\n",
              "3       20   Siswa04  Mempertimbangkan baik sisi plus ataupun minus ...\n",
              "4       25   Siswa05  Mempertimbangkan baik sisi plus ataupun minus ...\n",
              "..     ...       ...                                                ...\n",
              "288   1445  Siswa289  Gemar menuangkan ide dalam bentuk tulisan atau...\n",
              "289   1450  Siswa290  Menggemari kegiatan yang melibatkan tulisan, M...\n",
              "290   1455  Siswa291  Menggemari kegiatan yang melibatkan tulisan, M...\n",
              "291   1460  Siswa292  Gemar menuangkan ide dalam bentuk tulisan atau...\n",
              "292   1465  Siswa293  Gemar menuangkan ide dalam bentuk tulisan atau...\n",
              "\n",
              "[293 rows x 3 columns]"
            ]
          },
          "metadata": {},
          "execution_count": 5
        }
      ]
    },
    {
      "cell_type": "code",
      "source": [
        "# Mengecek dan mengembalikan type data,\n",
        "def getBidang(eskul):\n",
        "    if isinstance(eskul, int):\n",
        "        return mbtes[mbtes.mb_id == eskul].minat_bakat.values[0]\n",
        "    if isinstance(eskul, str):\n",
        "        return mbtes[mbtes.nama == eskul].minat_bakat.values[0]"
      ],
      "metadata": {
        "id": "fKrHfFXAdvnu"
      },
      "execution_count": 6,
      "outputs": []
    },
    {
      "cell_type": "code",
      "source": [
        "nilai"
      ],
      "metadata": {
        "colab": {
          "base_uri": "https://localhost:8080/",
          "height": 424
        },
        "id": "1pt1tYBieTyY",
        "outputId": "7e85576f-fc8d-431b-fcae-a0daed9bf7ef"
      },
      "execution_count": 7,
      "outputs": [
        {
          "output_type": "execute_result",
          "data": {
            "text/html": [
              "<div>\n",
              "<style scoped>\n",
              "    .dataframe tbody tr th:only-of-type {\n",
              "        vertical-align: middle;\n",
              "    }\n",
              "\n",
              "    .dataframe tbody tr th {\n",
              "        vertical-align: top;\n",
              "    }\n",
              "\n",
              "    .dataframe thead th {\n",
              "        text-align: right;\n",
              "    }\n",
              "</style>\n",
              "<table border=\"1\" class=\"dataframe\">\n",
              "  <thead>\n",
              "    <tr style=\"text-align: right;\">\n",
              "      <th></th>\n",
              "      <th>user_id</th>\n",
              "      <th>nama</th>\n",
              "      <th>jumlah</th>\n",
              "      <th>rata-rata</th>\n",
              "      <th>bidang_eskul</th>\n",
              "      <th>bidang_id</th>\n",
              "    </tr>\n",
              "  </thead>\n",
              "  <tbody>\n",
              "    <tr>\n",
              "      <th>0</th>\n",
              "      <td>10</td>\n",
              "      <td>Siswa01</td>\n",
              "      <td>8</td>\n",
              "      <td>0.166667</td>\n",
              "      <td>Kesenian</td>\n",
              "      <td>1</td>\n",
              "    </tr>\n",
              "    <tr>\n",
              "      <th>1</th>\n",
              "      <td>20</td>\n",
              "      <td>Siswa02</td>\n",
              "      <td>8</td>\n",
              "      <td>0.166667</td>\n",
              "      <td>Olahraga</td>\n",
              "      <td>2</td>\n",
              "    </tr>\n",
              "    <tr>\n",
              "      <th>2</th>\n",
              "      <td>30</td>\n",
              "      <td>Siswa03</td>\n",
              "      <td>5</td>\n",
              "      <td>0.104167</td>\n",
              "      <td>Akademik &amp; Kebahasaan</td>\n",
              "      <td>3</td>\n",
              "    </tr>\n",
              "    <tr>\n",
              "      <th>3</th>\n",
              "      <td>40</td>\n",
              "      <td>Siswa04</td>\n",
              "      <td>12</td>\n",
              "      <td>0.250000</td>\n",
              "      <td>Olahraga</td>\n",
              "      <td>2</td>\n",
              "    </tr>\n",
              "    <tr>\n",
              "      <th>4</th>\n",
              "      <td>50</td>\n",
              "      <td>Siswa05</td>\n",
              "      <td>12</td>\n",
              "      <td>0.250000</td>\n",
              "      <td>Kesenian</td>\n",
              "      <td>1</td>\n",
              "    </tr>\n",
              "    <tr>\n",
              "      <th>...</th>\n",
              "      <td>...</td>\n",
              "      <td>...</td>\n",
              "      <td>...</td>\n",
              "      <td>...</td>\n",
              "      <td>...</td>\n",
              "      <td>...</td>\n",
              "    </tr>\n",
              "    <tr>\n",
              "      <th>288</th>\n",
              "      <td>2890</td>\n",
              "      <td>Siswa289</td>\n",
              "      <td>17</td>\n",
              "      <td>0.354167</td>\n",
              "      <td>Lingkungan Hidup</td>\n",
              "      <td>6</td>\n",
              "    </tr>\n",
              "    <tr>\n",
              "      <th>289</th>\n",
              "      <td>2900</td>\n",
              "      <td>Siswa290</td>\n",
              "      <td>17</td>\n",
              "      <td>0.354167</td>\n",
              "      <td>Akademik &amp; Kebahasaan</td>\n",
              "      <td>3</td>\n",
              "    </tr>\n",
              "    <tr>\n",
              "      <th>290</th>\n",
              "      <td>2910</td>\n",
              "      <td>Siswa291</td>\n",
              "      <td>17</td>\n",
              "      <td>0.354167</td>\n",
              "      <td>IT</td>\n",
              "      <td>5</td>\n",
              "    </tr>\n",
              "    <tr>\n",
              "      <th>291</th>\n",
              "      <td>2920</td>\n",
              "      <td>Siswa292</td>\n",
              "      <td>17</td>\n",
              "      <td>0.354167</td>\n",
              "      <td>Akademik &amp; Kebahasaan</td>\n",
              "      <td>3</td>\n",
              "    </tr>\n",
              "    <tr>\n",
              "      <th>292</th>\n",
              "      <td>2930</td>\n",
              "      <td>Siswa293</td>\n",
              "      <td>17</td>\n",
              "      <td>0.354167</td>\n",
              "      <td>IT</td>\n",
              "      <td>5</td>\n",
              "    </tr>\n",
              "  </tbody>\n",
              "</table>\n",
              "<p>293 rows × 6 columns</p>\n",
              "</div>"
            ],
            "text/plain": [
              "     user_id      nama  jumlah  rata-rata           bidang_eskul  bidang_id\n",
              "0         10   Siswa01       8   0.166667               Kesenian          1\n",
              "1         20   Siswa02       8   0.166667               Olahraga          2\n",
              "2         30   Siswa03       5   0.104167  Akademik & Kebahasaan          3\n",
              "3         40   Siswa04      12   0.250000               Olahraga          2\n",
              "4         50   Siswa05      12   0.250000               Kesenian          1\n",
              "..       ...       ...     ...        ...                    ...        ...\n",
              "288     2890  Siswa289      17   0.354167       Lingkungan Hidup          6\n",
              "289     2900  Siswa290      17   0.354167  Akademik & Kebahasaan          3\n",
              "290     2910  Siswa291      17   0.354167                     IT          5\n",
              "291     2920  Siswa292      17   0.354167  Akademik & Kebahasaan          3\n",
              "292     2930  Siswa293      17   0.354167                     IT          5\n",
              "\n",
              "[293 rows x 6 columns]"
            ]
          },
          "metadata": {},
          "execution_count": 7
        }
      ]
    },
    {
      "cell_type": "code",
      "source": [
        "# Menghitung user yang memberi menjawab>1\n",
        "n_nilai = nilai['user_id'].value_counts()\n"
      ],
      "metadata": {
        "id": "0EdzPBbXedYK"
      },
      "execution_count": 8,
      "outputs": []
    },
    {
      "cell_type": "code",
      "source": [
        "# Encoding categorical data\n",
        "# Mrnghitung data dari user.\n",
        "# Melihat min_max nilai\n",
        "user_ids = nilai[\"user_id\"].unique().tolist()\n",
        "user2user_encoded = {x: i for i, x in enumerate(user_ids)}\n",
        "user_encoded2user = {i: x for i, x in enumerate(user_ids)}\n",
        "nilai[\"user\"] = nilai[\"user_id\"].map(user2user_encoded)\n",
        "n_users = len(user2user_encoded)\n",
        "\n",
        "bidang_ids = nilai[\"bidang_id\"].unique().tolist()\n",
        "bidang2bidang_encoded = {x: i for i, x in enumerate(bidang_ids)}\n",
        "bidang_encoded2bidang = {i: x for i, x in enumerate(bidang_ids)}\n",
        "nilai[\"bidang_eskul\"] = nilai[\"bidang_id\"].map(bidang2bidang_encoded)\n",
        "n_bidang = len(bidang2bidang_encoded)\n",
        "\n",
        "print(\"Num of users: {}, Num of bidang eskul: {}\".format(n_users, n_bidang))\n",
        "print(\"Min nilai: {}, Max nilai: {}\".format(min(nilai['jumlah']), max(nilai['jumlah'])))"
      ],
      "metadata": {
        "colab": {
          "base_uri": "https://localhost:8080/"
        },
        "id": "zXm8VnggfOy5",
        "outputId": "0d8b35f3-95fe-46d9-84fc-350846188ec9"
      },
      "execution_count": 9,
      "outputs": [
        {
          "output_type": "stream",
          "name": "stdout",
          "text": [
            "Num of users: 293, Num of bidang eskul: 6\n",
            "Min nilai: 1, Max nilai: 46\n"
          ]
        }
      ]
    },
    {
      "cell_type": "code",
      "source": [
        "# Menghitung rata2 nilai\n",
        "min_nilai = min(nilai['jumlah'])\n",
        "max_nilai = max(nilai['jumlah'])\n",
        "nilai['jumlah'] = nilai[\"jumlah\"].apply(lambda x: (x - min_nilai) / (max_nilai - min_nilai)).values.astype(np.float64)\n",
        "\n",
        "Avgnilai = np.mean(nilai['jumlah'])\n",
        "print('Avg', Avgnilai)"
      ],
      "metadata": {
        "colab": {
          "base_uri": "https://localhost:8080/"
        },
        "id": "GltZfjBFfO8H",
        "outputId": "5c866a05-30a9-4ef0-f7e0-b4437fa397fb"
      },
      "execution_count": 10,
      "outputs": [
        {
          "output_type": "stream",
          "name": "stdout",
          "text": [
            "Avg 0.32172923777019335\n"
          ]
        }
      ]
    },
    {
      "cell_type": "code",
      "source": [
        "g = nilai.groupby('user_id')['jumlah'].count()\n",
        "top_users = g.dropna().sort_values(ascending=False)[:6]\n",
        "top_r = nilai.join(top_users, rsuffix='_r', how='inner', on='user_id')\n",
        "\n",
        "g = nilai.groupby('bidang_id')['jumlah'].count()\n",
        "top_bidang= g.dropna().sort_values(ascending=False)[:6]\n",
        "top_r = top_r.join(top_bidang, rsuffix='_r', how='inner', on='bidang_id')\n",
        "\n",
        "pd.crosstab(top_r.user_id, top_r.bidang_id, top_r.jumlah, aggfunc=np.sum)"
      ],
      "metadata": {
        "colab": {
          "base_uri": "https://localhost:8080/",
          "height": 269
        },
        "id": "ZwZFhSi4kZ-I",
        "outputId": "968babf9-9cb7-4c14-d73f-1bf45dda3260"
      },
      "execution_count": 11,
      "outputs": [
        {
          "output_type": "execute_result",
          "data": {
            "text/html": [
              "<div>\n",
              "<style scoped>\n",
              "    .dataframe tbody tr th:only-of-type {\n",
              "        vertical-align: middle;\n",
              "    }\n",
              "\n",
              "    .dataframe tbody tr th {\n",
              "        vertical-align: top;\n",
              "    }\n",
              "\n",
              "    .dataframe thead th {\n",
              "        text-align: right;\n",
              "    }\n",
              "</style>\n",
              "<table border=\"1\" class=\"dataframe\">\n",
              "  <thead>\n",
              "    <tr style=\"text-align: right;\">\n",
              "      <th>bidang_id</th>\n",
              "      <th>1</th>\n",
              "      <th>3</th>\n",
              "      <th>4</th>\n",
              "      <th>5</th>\n",
              "      <th>6</th>\n",
              "    </tr>\n",
              "    <tr>\n",
              "      <th>user_id</th>\n",
              "      <th></th>\n",
              "      <th></th>\n",
              "      <th></th>\n",
              "      <th></th>\n",
              "      <th></th>\n",
              "    </tr>\n",
              "  </thead>\n",
              "  <tbody>\n",
              "    <tr>\n",
              "      <th>930</th>\n",
              "      <td>0.222222</td>\n",
              "      <td>NaN</td>\n",
              "      <td>NaN</td>\n",
              "      <td>NaN</td>\n",
              "      <td>NaN</td>\n",
              "    </tr>\n",
              "    <tr>\n",
              "      <th>940</th>\n",
              "      <td>NaN</td>\n",
              "      <td>NaN</td>\n",
              "      <td>0.333333</td>\n",
              "      <td>NaN</td>\n",
              "      <td>NaN</td>\n",
              "    </tr>\n",
              "    <tr>\n",
              "      <th>950</th>\n",
              "      <td>0.333333</td>\n",
              "      <td>NaN</td>\n",
              "      <td>NaN</td>\n",
              "      <td>NaN</td>\n",
              "      <td>NaN</td>\n",
              "    </tr>\n",
              "    <tr>\n",
              "      <th>960</th>\n",
              "      <td>NaN</td>\n",
              "      <td>0.133333</td>\n",
              "      <td>NaN</td>\n",
              "      <td>NaN</td>\n",
              "      <td>NaN</td>\n",
              "    </tr>\n",
              "    <tr>\n",
              "      <th>1090</th>\n",
              "      <td>NaN</td>\n",
              "      <td>NaN</td>\n",
              "      <td>NaN</td>\n",
              "      <td>NaN</td>\n",
              "      <td>0.355556</td>\n",
              "    </tr>\n",
              "    <tr>\n",
              "      <th>2930</th>\n",
              "      <td>NaN</td>\n",
              "      <td>NaN</td>\n",
              "      <td>NaN</td>\n",
              "      <td>0.355556</td>\n",
              "      <td>NaN</td>\n",
              "    </tr>\n",
              "  </tbody>\n",
              "</table>\n",
              "</div>"
            ],
            "text/plain": [
              "bidang_id         1         3         4         5         6\n",
              "user_id                                                    \n",
              "930        0.222222       NaN       NaN       NaN       NaN\n",
              "940             NaN       NaN  0.333333       NaN       NaN\n",
              "950        0.333333       NaN       NaN       NaN       NaN\n",
              "960             NaN  0.133333       NaN       NaN       NaN\n",
              "1090            NaN       NaN       NaN       NaN  0.355556\n",
              "2930            NaN       NaN       NaN  0.355556       NaN"
            ]
          },
          "metadata": {},
          "execution_count": 11
        }
      ]
    },
    {
      "cell_type": "code",
      "source": [
        "nilai.isnull().sum()"
      ],
      "metadata": {
        "colab": {
          "base_uri": "https://localhost:8080/"
        },
        "id": "5VDfNBBljtCU",
        "outputId": "380b4e13-c947-48a7-c5bf-53d16f873c6a"
      },
      "execution_count": 12,
      "outputs": [
        {
          "output_type": "execute_result",
          "data": {
            "text/plain": [
              "user_id         0\n",
              "nama            0\n",
              "jumlah          0\n",
              "rata-rata       0\n",
              "bidang_eskul    0\n",
              "bidang_id       0\n",
              "user            0\n",
              "dtype: int64"
            ]
          },
          "metadata": {},
          "execution_count": 12
        }
      ]
    },
    {
      "cell_type": "code",
      "source": [
        "# Mengacak data\n",
        "nilai = nilai.sample(frac=1, random_state=2021)\n",
        "\n",
        "X = nilai[['user', 'bidang_eskul']].values\n",
        "y = nilai[\"jumlah\"]"
      ],
      "metadata": {
        "id": "HSD-nQIwlzrT"
      },
      "execution_count": 13,
      "outputs": []
    },
    {
      "cell_type": "code",
      "source": [
        "# Split data\n",
        "# disini saya mengambil 100 untuk test set\n",
        "\n",
        "test_set_size = 70\n",
        "train_indices = nilai.shape[0] - test_set_size \n",
        "\n",
        "X_train, X_test, y_train, y_test = (\n",
        "    X[:train_indices],\n",
        "    X[train_indices:],\n",
        "    y[:train_indices],\n",
        "    y[train_indices:],\n",
        ")\n",
        "\n",
        "print('> Train set ratings: {}'.format(len(y_train)))\n",
        "print('> Test set ratings: {}'.format(len(y_test)))"
      ],
      "metadata": {
        "colab": {
          "base_uri": "https://localhost:8080/"
        },
        "id": "v5ZlxVhhm1Of",
        "outputId": "f92cd6c7-558b-4d35-ca29-fe2cc205f02a"
      },
      "execution_count": 219,
      "outputs": [
        {
          "output_type": "stream",
          "name": "stdout",
          "text": [
            "> Train set ratings: 223\n",
            "> Test set ratings: 70\n"
          ]
        }
      ]
    },
    {
      "cell_type": "code",
      "source": [
        "X_train_array = [X_train[:, 0], X_train[:, 1]]\n",
        "X_test_array = [X_test[:, 0], X_test[:, 1]]"
      ],
      "metadata": {
        "id": "mb0E2H7OoOVn"
      },
      "execution_count": 220,
      "outputs": []
    },
    {
      "cell_type": "code",
      "source": [
        "# Accelerator check\n",
        "# Disini saya menggunakan TPU bukan GPU untuk proses melatih model \n",
        "# Tensor Processing Unit (TPU).\n",
        "import tensorflow as tf\n",
        "\n",
        "TPU_INIT = True\n",
        "\n",
        "if TPU_INIT:\n",
        "    tpu = tf.distribute.cluster_resolver.TPUClusterResolver.connect()\n",
        "    tpu_strategy = tf.distribute.experimental.TPUStrategy(tpu)\n",
        "else:\n",
        "    !nvidia-smi\n",
        "    \n",
        "print(tf.__version__)"
      ],
      "metadata": {
        "colab": {
          "base_uri": "https://localhost:8080/"
        },
        "id": "vpg6MHcMnXZB",
        "outputId": "082ba90d-20ff-4aac-acfc-890fb403cfad"
      },
      "execution_count": 16,
      "outputs": [
        {
          "output_type": "stream",
          "name": "stdout",
          "text": [
            "INFO:tensorflow:Deallocate tpu buffers before initializing tpu system.\n"
          ]
        },
        {
          "output_type": "stream",
          "name": "stderr",
          "text": [
            "INFO:tensorflow:Deallocate tpu buffers before initializing tpu system.\n"
          ]
        },
        {
          "output_type": "stream",
          "name": "stdout",
          "text": [
            "INFO:tensorflow:Initializing the TPU system: grpc://10.61.85.42:8470\n"
          ]
        },
        {
          "output_type": "stream",
          "name": "stderr",
          "text": [
            "INFO:tensorflow:Initializing the TPU system: grpc://10.61.85.42:8470\n"
          ]
        },
        {
          "output_type": "stream",
          "name": "stdout",
          "text": [
            "INFO:tensorflow:Finished initializing TPU system.\n"
          ]
        },
        {
          "output_type": "stream",
          "name": "stderr",
          "text": [
            "INFO:tensorflow:Finished initializing TPU system.\n",
            "WARNING:absl:`tf.distribute.experimental.TPUStrategy` is deprecated, please use  the non experimental symbol `tf.distribute.TPUStrategy` instead.\n"
          ]
        },
        {
          "output_type": "stream",
          "name": "stdout",
          "text": [
            "INFO:tensorflow:Found TPU system:\n"
          ]
        },
        {
          "output_type": "stream",
          "name": "stderr",
          "text": [
            "INFO:tensorflow:Found TPU system:\n"
          ]
        },
        {
          "output_type": "stream",
          "name": "stdout",
          "text": [
            "INFO:tensorflow:*** Num TPU Cores: 8\n"
          ]
        },
        {
          "output_type": "stream",
          "name": "stderr",
          "text": [
            "INFO:tensorflow:*** Num TPU Cores: 8\n"
          ]
        },
        {
          "output_type": "stream",
          "name": "stdout",
          "text": [
            "INFO:tensorflow:*** Num TPU Workers: 1\n"
          ]
        },
        {
          "output_type": "stream",
          "name": "stderr",
          "text": [
            "INFO:tensorflow:*** Num TPU Workers: 1\n"
          ]
        },
        {
          "output_type": "stream",
          "name": "stdout",
          "text": [
            "INFO:tensorflow:*** Num TPU Cores Per Worker: 8\n"
          ]
        },
        {
          "output_type": "stream",
          "name": "stderr",
          "text": [
            "INFO:tensorflow:*** Num TPU Cores Per Worker: 8\n"
          ]
        },
        {
          "output_type": "stream",
          "name": "stdout",
          "text": [
            "INFO:tensorflow:*** Available Device: _DeviceAttributes(/job:localhost/replica:0/task:0/device:CPU:0, CPU, 0, 0)\n"
          ]
        },
        {
          "output_type": "stream",
          "name": "stderr",
          "text": [
            "INFO:tensorflow:*** Available Device: _DeviceAttributes(/job:localhost/replica:0/task:0/device:CPU:0, CPU, 0, 0)\n"
          ]
        },
        {
          "output_type": "stream",
          "name": "stdout",
          "text": [
            "INFO:tensorflow:*** Available Device: _DeviceAttributes(/job:worker/replica:0/task:0/device:CPU:0, CPU, 0, 0)\n"
          ]
        },
        {
          "output_type": "stream",
          "name": "stderr",
          "text": [
            "INFO:tensorflow:*** Available Device: _DeviceAttributes(/job:worker/replica:0/task:0/device:CPU:0, CPU, 0, 0)\n"
          ]
        },
        {
          "output_type": "stream",
          "name": "stdout",
          "text": [
            "INFO:tensorflow:*** Available Device: _DeviceAttributes(/job:worker/replica:0/task:0/device:TPU:0, TPU, 0, 0)\n"
          ]
        },
        {
          "output_type": "stream",
          "name": "stderr",
          "text": [
            "INFO:tensorflow:*** Available Device: _DeviceAttributes(/job:worker/replica:0/task:0/device:TPU:0, TPU, 0, 0)\n"
          ]
        },
        {
          "output_type": "stream",
          "name": "stdout",
          "text": [
            "INFO:tensorflow:*** Available Device: _DeviceAttributes(/job:worker/replica:0/task:0/device:TPU:1, TPU, 0, 0)\n"
          ]
        },
        {
          "output_type": "stream",
          "name": "stderr",
          "text": [
            "INFO:tensorflow:*** Available Device: _DeviceAttributes(/job:worker/replica:0/task:0/device:TPU:1, TPU, 0, 0)\n"
          ]
        },
        {
          "output_type": "stream",
          "name": "stdout",
          "text": [
            "INFO:tensorflow:*** Available Device: _DeviceAttributes(/job:worker/replica:0/task:0/device:TPU:2, TPU, 0, 0)\n"
          ]
        },
        {
          "output_type": "stream",
          "name": "stderr",
          "text": [
            "INFO:tensorflow:*** Available Device: _DeviceAttributes(/job:worker/replica:0/task:0/device:TPU:2, TPU, 0, 0)\n"
          ]
        },
        {
          "output_type": "stream",
          "name": "stdout",
          "text": [
            "INFO:tensorflow:*** Available Device: _DeviceAttributes(/job:worker/replica:0/task:0/device:TPU:3, TPU, 0, 0)\n"
          ]
        },
        {
          "output_type": "stream",
          "name": "stderr",
          "text": [
            "INFO:tensorflow:*** Available Device: _DeviceAttributes(/job:worker/replica:0/task:0/device:TPU:3, TPU, 0, 0)\n"
          ]
        },
        {
          "output_type": "stream",
          "name": "stdout",
          "text": [
            "INFO:tensorflow:*** Available Device: _DeviceAttributes(/job:worker/replica:0/task:0/device:TPU:4, TPU, 0, 0)\n"
          ]
        },
        {
          "output_type": "stream",
          "name": "stderr",
          "text": [
            "INFO:tensorflow:*** Available Device: _DeviceAttributes(/job:worker/replica:0/task:0/device:TPU:4, TPU, 0, 0)\n"
          ]
        },
        {
          "output_type": "stream",
          "name": "stdout",
          "text": [
            "INFO:tensorflow:*** Available Device: _DeviceAttributes(/job:worker/replica:0/task:0/device:TPU:5, TPU, 0, 0)\n"
          ]
        },
        {
          "output_type": "stream",
          "name": "stderr",
          "text": [
            "INFO:tensorflow:*** Available Device: _DeviceAttributes(/job:worker/replica:0/task:0/device:TPU:5, TPU, 0, 0)\n"
          ]
        },
        {
          "output_type": "stream",
          "name": "stdout",
          "text": [
            "INFO:tensorflow:*** Available Device: _DeviceAttributes(/job:worker/replica:0/task:0/device:TPU:6, TPU, 0, 0)\n"
          ]
        },
        {
          "output_type": "stream",
          "name": "stderr",
          "text": [
            "INFO:tensorflow:*** Available Device: _DeviceAttributes(/job:worker/replica:0/task:0/device:TPU:6, TPU, 0, 0)\n"
          ]
        },
        {
          "output_type": "stream",
          "name": "stdout",
          "text": [
            "INFO:tensorflow:*** Available Device: _DeviceAttributes(/job:worker/replica:0/task:0/device:TPU:7, TPU, 0, 0)\n"
          ]
        },
        {
          "output_type": "stream",
          "name": "stderr",
          "text": [
            "INFO:tensorflow:*** Available Device: _DeviceAttributes(/job:worker/replica:0/task:0/device:TPU:7, TPU, 0, 0)\n"
          ]
        },
        {
          "output_type": "stream",
          "name": "stdout",
          "text": [
            "INFO:tensorflow:*** Available Device: _DeviceAttributes(/job:worker/replica:0/task:0/device:TPU_SYSTEM:0, TPU_SYSTEM, 0, 0)\n"
          ]
        },
        {
          "output_type": "stream",
          "name": "stderr",
          "text": [
            "INFO:tensorflow:*** Available Device: _DeviceAttributes(/job:worker/replica:0/task:0/device:TPU_SYSTEM:0, TPU_SYSTEM, 0, 0)\n"
          ]
        },
        {
          "output_type": "stream",
          "name": "stdout",
          "text": [
            "INFO:tensorflow:*** Available Device: _DeviceAttributes(/job:worker/replica:0/task:0/device:XLA_CPU:0, XLA_CPU, 0, 0)\n"
          ]
        },
        {
          "output_type": "stream",
          "name": "stderr",
          "text": [
            "INFO:tensorflow:*** Available Device: _DeviceAttributes(/job:worker/replica:0/task:0/device:XLA_CPU:0, XLA_CPU, 0, 0)\n"
          ]
        },
        {
          "output_type": "stream",
          "name": "stdout",
          "text": [
            "2.7.0\n"
          ]
        }
      ]
    },
    {
      "cell_type": "code",
      "source": [
        "# Import Library yang dibutuhkan\n",
        "\n",
        "import keras\n",
        "from keras import layers \n",
        "import tensorflow as tf\n",
        "from tensorflow.keras.preprocessing.text import Tokenizer\n",
        "from tensorflow.keras.models import Model\n",
        "from tensorflow.keras.optimizers import Adam"
      ],
      "metadata": {
        "id": "UN83RCE5neVN"
      },
      "execution_count": 147,
      "outputs": []
    },
    {
      "cell_type": "code",
      "source": [
        "# Embedding layers\n",
        "\n",
        "from keras.layers import Add, Activation, Lambda, BatchNormalization, Concatenate, Dropout, Input, Embedding, Dot, Reshape, Dense, Flatten\n",
        "\n",
        "def RecommenderNet():\n",
        "    embedding_size = 50\n",
        "    \n",
        "    user = Input(name = 'user', shape = [1])\n",
        "    user_embedding = Embedding(name = 'user_embedding',\n",
        "                       input_dim = n_users, \n",
        "                       output_dim = embedding_size)(user)\n",
        "    \n",
        "    bidang_eskul = Input(name = 'bidang_eskul', shape = [1])\n",
        "    bidang_embedding = Embedding(name = 'bidang_embedding',\n",
        "                       input_dim = n_bidang, \n",
        "                       output_dim = embedding_size)(bidang_eskul)\n",
        "    \n",
        "    #x = Concatenate()([user_embedding, anime_embedding])\n",
        "    x = Dot(name = 'dot_product', normalize = True, axes = 2)([user_embedding, bidang_embedding])\n",
        "    x = Flatten()(x)\n",
        "        \n",
        "    x = Dense(1, kernel_initializer='he_normal')(x)\n",
        "    x = BatchNormalization()(x)\n",
        "    x = Activation(\"sigmoid\")(x)\n",
        "    \n",
        "    model = Model(inputs=[user, bidang_eskul], outputs=x)\n",
        "    model.compile(loss='binary_crossentropy', metrics=[\"mae\", \"mse\"], optimizer='Adam')\n",
        "    \n",
        "    return model\n",
        "\n",
        "if TPU_INIT:    \n",
        "    with tpu_strategy.scope():\n",
        "        model = RecommenderNet()\n",
        "else:\n",
        "    model = RecommenderNet()\n",
        "\n",
        "model.summary()"
      ],
      "metadata": {
        "colab": {
          "base_uri": "https://localhost:8080/"
        },
        "id": "iuSzJBo6nhbo",
        "outputId": "73bd5b4b-2ca8-4184-e36f-bb657e9c9974"
      },
      "execution_count": 215,
      "outputs": [
        {
          "output_type": "stream",
          "name": "stdout",
          "text": [
            "Model: \"model_6\"\n",
            "__________________________________________________________________________________________________\n",
            " Layer (type)                   Output Shape         Param #     Connected to                     \n",
            "==================================================================================================\n",
            " user (InputLayer)              [(None, 1)]          0           []                               \n",
            "                                                                                                  \n",
            " bidang_eskul (InputLayer)      [(None, 1)]          0           []                               \n",
            "                                                                                                  \n",
            " user_embedding (Embedding)     (None, 1, 50)        14650       ['user[0][0]']                   \n",
            "                                                                                                  \n",
            " bidang_embedding (Embedding)   (None, 1, 50)        300         ['bidang_eskul[0][0]']           \n",
            "                                                                                                  \n",
            " dot_product (Dot)              (None, 1, 1)         0           ['user_embedding[0][0]',         \n",
            "                                                                  'bidang_embedding[0][0]']       \n",
            "                                                                                                  \n",
            " flatten_6 (Flatten)            (None, 1)            0           ['dot_product[0][0]']            \n",
            "                                                                                                  \n",
            " dense_6 (Dense)                (None, 1)            2           ['flatten_6[0][0]']              \n",
            "                                                                                                  \n",
            " batch_normalization_6 (BatchNo  (None, 1)           4           ['dense_6[0][0]']                \n",
            " rmalization)                                                                                     \n",
            "                                                                                                  \n",
            " activation_6 (Activation)      (None, 1)            0           ['batch_normalization_6[0][0]']  \n",
            "                                                                                                  \n",
            "==================================================================================================\n",
            "Total params: 14,956\n",
            "Trainable params: 14,954\n",
            "Non-trainable params: 2\n",
            "__________________________________________________________________________________________________\n"
          ]
        }
      ]
    },
    {
      "cell_type": "code",
      "source": [
        "# Callbacks\n",
        "from tensorflow.keras.callbacks import Callback, ModelCheckpoint, LearningRateScheduler, TensorBoard, EarlyStopping, ReduceLROnPlateau\n",
        "\n",
        "start_lr = 0.01\n",
        "min_lr = 0.01\n",
        "max_lr = 0.05\n",
        "batch_size = 5\n",
        "\n",
        "if TPU_INIT:\n",
        "    max_lr = max_lr * tpu_strategy.num_replicas_in_sync\n",
        "    batch_size = batch_size * tpu_strategy.num_replicas_in_sync\n",
        "\n",
        "rampup_epochs = 5\n",
        "sustain_epochs = 0\n",
        "exp_decay = .8\n",
        "\n",
        "def lrfn(epoch):\n",
        "    if epoch < rampup_epochs:\n",
        "        return (max_lr - start_lr)/rampup_epochs * epoch + start_lr\n",
        "    elif epoch < rampup_epochs + sustain_epochs:\n",
        "        return max_lr\n",
        "    else:\n",
        "        return (max_lr - min_lr) * exp_decay**(epoch-rampup_epochs-sustain_epochs) + min_lr\n",
        "\n",
        "\n",
        "lr_callback = LearningRateScheduler(lambda epoch: lrfn(epoch), verbose=0)\n",
        "\n",
        "checkpoint_filepath = './weights.h5'\n",
        "\n",
        "model_checkpoints = ModelCheckpoint(filepath=checkpoint_filepath,\n",
        "                                        save_weights_only=True,\n",
        "                                        monitor='val_loss',\n",
        "                                        mode='min',\n",
        "                                        save_best_only=True)\n",
        "\n",
        "early_stopping = EarlyStopping(patience = 10, monitor='val_loss', \n",
        "                               mode='min', restore_best_weights=True)\n",
        "\n",
        "my_callbacks = [\n",
        "    model_checkpoints,\n",
        "    lr_callback,\n",
        "    early_stopping,   \n",
        "]"
      ],
      "metadata": {
        "id": "SJo82C_9n5zB"
      },
      "execution_count": 216,
      "outputs": []
    },
    {
      "cell_type": "code",
      "source": [
        "# Model training\n",
        "history = model.fit(\n",
        "    x=X_train_array,\n",
        "    y=y_train,\n",
        "    batch_size=batch_size,\n",
        "    epochs=50,\n",
        "    verbose=2,\n",
        "    validation_data=(X_test_array, y_test),\n",
        "    callbacks=my_callbacks\n",
        ")\n",
        "\n",
        "model.load_weights(checkpoint_filepath)"
      ],
      "metadata": {
        "colab": {
          "base_uri": "https://localhost:8080/"
        },
        "id": "s4NQCewvn-rw",
        "outputId": "512f6001-876a-4cc7-8814-2a4c89ff99bd"
      },
      "execution_count": 221,
      "outputs": [
        {
          "output_type": "stream",
          "name": "stdout",
          "text": [
            "Epoch 1/50\n",
            "6/6 - 8s - loss: 0.7219 - mae: 0.1955 - mse: 0.0586 - val_loss: 0.6832 - val_mae: 0.1782 - val_mse: 0.0418 - lr: 0.0100 - 8s/epoch - 1s/step\n",
            "Epoch 2/50\n",
            "6/6 - 1s - loss: 0.6856 - mae: 0.1555 - mse: 0.0410 - val_loss: 0.6335 - val_mae: 0.0801 - val_mse: 0.0175 - lr: 0.0880 - 866ms/epoch - 144ms/step\n",
            "Epoch 3/50\n",
            "6/6 - 1s - loss: 0.6352 - mae: 0.0961 - mse: 0.0163 - val_loss: 0.6498 - val_mae: 0.1315 - val_mse: 0.0235 - lr: 0.1660 - 797ms/epoch - 133ms/step\n",
            "Epoch 4/50\n",
            "6/6 - 1s - loss: 0.6563 - mae: 0.1271 - mse: 0.0232 - val_loss: 0.6545 - val_mae: 0.1372 - val_mse: 0.0251 - lr: 0.2440 - 801ms/epoch - 134ms/step\n",
            "Epoch 5/50\n",
            "6/6 - 1s - loss: 0.6303 - mae: 0.0833 - mse: 0.0133 - val_loss: 0.6292 - val_mae: 0.0766 - val_mse: 0.0155 - lr: 0.3220 - 845ms/epoch - 141ms/step\n",
            "Epoch 6/50\n",
            "6/6 - 1s - loss: 0.6321 - mae: 0.0817 - mse: 0.0151 - val_loss: 0.6322 - val_mae: 0.0774 - val_mse: 0.0169 - lr: 0.4000 - 793ms/epoch - 132ms/step\n",
            "Epoch 7/50\n",
            "6/6 - 1s - loss: 0.6244 - mae: 0.0739 - mse: 0.0117 - val_loss: 0.6351 - val_mae: 0.1051 - val_mse: 0.0179 - lr: 0.3220 - 805ms/epoch - 134ms/step\n",
            "Epoch 8/50\n",
            "6/6 - 1s - loss: 0.6257 - mae: 0.0804 - mse: 0.0121 - val_loss: 0.6335 - val_mae: 0.1016 - val_mse: 0.0173 - lr: 0.2596 - 780ms/epoch - 130ms/step\n",
            "Epoch 9/50\n",
            "6/6 - 1s - loss: 0.6221 - mae: 0.0709 - mse: 0.0107 - val_loss: 0.6291 - val_mae: 0.0840 - val_mse: 0.0154 - lr: 0.2097 - 873ms/epoch - 146ms/step\n",
            "Epoch 10/50\n",
            "6/6 - 1s - loss: 0.6177 - mae: 0.0635 - mse: 0.0088 - val_loss: 0.6289 - val_mae: 0.0790 - val_mse: 0.0154 - lr: 0.1697 - 857ms/epoch - 143ms/step\n",
            "Epoch 11/50\n",
            "6/6 - 1s - loss: 0.6169 - mae: 0.0663 - mse: 0.0085 - val_loss: 0.6294 - val_mae: 0.0857 - val_mse: 0.0156 - lr: 0.1378 - 772ms/epoch - 129ms/step\n",
            "Epoch 12/50\n",
            "6/6 - 1s - loss: 0.6167 - mae: 0.0630 - mse: 0.0085 - val_loss: 0.6299 - val_mae: 0.0889 - val_mse: 0.0158 - lr: 0.1122 - 808ms/epoch - 135ms/step\n",
            "Epoch 13/50\n",
            "6/6 - 1s - loss: 0.6169 - mae: 0.0624 - mse: 0.0085 - val_loss: 0.6295 - val_mae: 0.0869 - val_mse: 0.0156 - lr: 0.0918 - 797ms/epoch - 133ms/step\n",
            "Epoch 14/50\n",
            "6/6 - 1s - loss: 0.6164 - mae: 0.0624 - mse: 0.0083 - val_loss: 0.6293 - val_mae: 0.0852 - val_mse: 0.0155 - lr: 0.0754 - 837ms/epoch - 140ms/step\n",
            "Epoch 15/50\n",
            "6/6 - 1s - loss: 0.6157 - mae: 0.0599 - mse: 0.0081 - val_loss: 0.6292 - val_mae: 0.0851 - val_mse: 0.0155 - lr: 0.0623 - 775ms/epoch - 129ms/step\n",
            "Epoch 16/50\n",
            "6/6 - 1s - loss: 0.6165 - mae: 0.0604 - mse: 0.0083 - val_loss: 0.6291 - val_mae: 0.0841 - val_mse: 0.0154 - lr: 0.0519 - 809ms/epoch - 135ms/step\n",
            "Epoch 17/50\n",
            "6/6 - 1s - loss: 0.6152 - mae: 0.0586 - mse: 0.0078 - val_loss: 0.6291 - val_mae: 0.0841 - val_mse: 0.0155 - lr: 0.0435 - 803ms/epoch - 134ms/step\n",
            "Epoch 18/50\n",
            "6/6 - 1s - loss: 0.6154 - mae: 0.0596 - mse: 0.0079 - val_loss: 0.6292 - val_mae: 0.0848 - val_mse: 0.0155 - lr: 0.0368 - 798ms/epoch - 133ms/step\n",
            "Epoch 19/50\n",
            "6/6 - 1s - loss: 0.6141 - mae: 0.0577 - mse: 0.0074 - val_loss: 0.6293 - val_mae: 0.0857 - val_mse: 0.0155 - lr: 0.0314 - 800ms/epoch - 133ms/step\n",
            "Epoch 20/50\n",
            "6/6 - 1s - loss: 0.6136 - mae: 0.0546 - mse: 0.0073 - val_loss: 0.6294 - val_mae: 0.0861 - val_mse: 0.0156 - lr: 0.0272 - 866ms/epoch - 144ms/step\n"
          ]
        }
      ]
    },
    {
      "cell_type": "code",
      "source": [
        "# Training results\n",
        "import matplotlib.pyplot as plt\n",
        "%matplotlib inline\n",
        "\n",
        "plt.plot(history.history[\"loss\"][0:-2])\n",
        "plt.plot(history.history[\"val_loss\"][0:-2])\n",
        "plt.title(\"model loss\")\n",
        "plt.ylabel(\"loss\")\n",
        "plt.xlabel(\"epoch\")\n",
        "plt.legend([\"train\", \"test\"], loc=\"upper left\")\n",
        "plt.show()"
      ],
      "metadata": {
        "colab": {
          "base_uri": "https://localhost:8080/",
          "height": 295
        },
        "id": "W6JgfRO3o8Kv",
        "outputId": "1fdee74d-55b0-4ef3-96d2-d09b12e7802e"
      },
      "execution_count": 222,
      "outputs": [
        {
          "output_type": "display_data",
          "data": {
            "image/png": "[encoded data removed]",
            "text/plain": [
              "<Figure size 432x288 with 1 Axes>"
            ]
          },
          "metadata": {
            "needs_background": "light"
          }
        }
      ]
    },
    {
      "cell_type": "code",
      "source": [
        "# proses ekstrak weight data/reshape\n",
        "def extract_weights(name, model):\n",
        "    weight_layer = model.get_layer(name)\n",
        "    weights = weight_layer.get_weights()[0]\n",
        "    weights = weights / np.linalg.norm(weights, axis = 1).reshape((-1, 1))\n",
        "    return weights\n",
        "\n",
        "bidang_weights = extract_weights('bidang_embedding', model)\n",
        "user_weights = extract_weights('user_embedding', model)"
      ],
      "metadata": {
        "id": "-nNmSbqzsD7R"
      },
      "execution_count": 223,
      "outputs": []
    },
    {
      "cell_type": "code",
      "source": [
        "# pd.reset_option('all')\n",
        "pd.set_option(\"max_colwidth\", None)\n",
        "\n",
        "def find_similar_bidang(name, n=10, return_dist=False, neg=False):\n",
        "    try:\n",
        "        index = getEskulFrame(name).bidang_id.values[0]\n",
        "        encoded_index = bidang2bidang_encoded.get(index)\n",
        "        weights = bidang_weights\n",
        "        \n",
        "        dists = np.dot(weights, weights[encoded_index])\n",
        "        sorted_dists = np.argsort(dists)\n",
        "        \n",
        "        n = n + 1            \n",
        "        \n",
        "        if neg:\n",
        "            closest = sorted_dists[:n]\n",
        "        else:\n",
        "            closest = sorted_dists[-n:]\n",
        "\n",
        "        print('user closest to {}'.format(name))\n",
        "\n",
        "        if return_dist:\n",
        "            return dists, closest\n",
        "        \n",
        "        rindex = nilai\n",
        "\n",
        "        SimilarityArr = []\n",
        "\n",
        "        for close in closest:\n",
        "            decoded_id = bidang_encoded2bidang.get(close)\n",
        "            minat_bakat = getBidang(decoded_id)\n",
        "            eskul_frame = getEskulFrame(decoded_id)\n",
        "            \n",
        "            nama = eskul_frame.nama.values[0]\n",
        "            bidang_eskul = eskul_frame.bidang_eskul.values[0]\n",
        "            similarity = dists[close]\n",
        "            SimilarityArr.append({\"bidang_id\": decoded_id, \"nama\": nama,\n",
        "                                  \"similarity\": similarity,\"bidang_eskul\": bidang_eskul,\n",
        "                                  'minat_bakat': minat_bakat})\n",
        "\n",
        "        Frame = pd.DataFrame(SimilarityArr).sort_values(by=\"similarity\", ascending=False)\n",
        "        return Frame[Frame.bidang_id != index].drop(['bidang_id'], axis=1)\n",
        "\n",
        "    except:\n",
        "        print('{}!, Not Found in list'.format(name))"
      ],
      "metadata": {
        "id": "nenlcpYXsEE0"
      },
      "execution_count": 84,
      "outputs": []
    },
    {
      "cell_type": "code",
      "source": [
        "find_similar_bidang('Olahraga', n=10, neg=False)"
      ],
      "metadata": {
        "colab": {
          "base_uri": "https://localhost:8080/"
        },
        "id": "Ctr_0P-ytknN",
        "outputId": "912dba92-5b07-4c67-934e-004d434aab5c"
      },
      "execution_count": 85,
      "outputs": [
        {
          "output_type": "stream",
          "name": "stdout",
          "text": [
            "Olahraga!, Not Found in list\n"
          ]
        }
      ]
    },
    {
      "cell_type": "code",
      "source": [
        "print('> Cari acak user')\n",
        "\n",
        "nilai_per_user = nilai.groupby('user_id').size()\n",
        "random_user = nilai_per_user[nilai_per_user < 10].sample(1, random_state=None).index[0]\n",
        "print('> user_id:', random_user)"
      ],
      "metadata": {
        "colab": {
          "base_uri": "https://localhost:8080/"
        },
        "id": "y6R-tvwqzx8J",
        "outputId": "933c539b-713d-41be-b09b-3db789b19d59"
      },
      "execution_count": 86,
      "outputs": [
        {
          "output_type": "stream",
          "name": "stdout",
          "text": [
            "> Cari acak user\n",
            "> user_id: 2100\n"
          ]
        }
      ]
    },
    {
      "cell_type": "code",
      "source": [
        "# pd.reset_option('all')\n",
        "pd.set_option(\"max_colwidth\", None)\n",
        "\n",
        "def find_similar_users(item_input, n=10,return_dist=False, neg=False):\n",
        "    try:\n",
        "        index = item_input\n",
        "        encoded_index = user2user_encoded.get(index)\n",
        "        weights = user_weights\n",
        "    \n",
        "        dists = np.dot(weights, weights[encoded_index])\n",
        "        sorted_dists = np.argsort(dists)\n",
        "        \n",
        "        n = n + 1\n",
        "        \n",
        "        if neg:\n",
        "            closest = sorted_dists[:n]\n",
        "        else:\n",
        "            closest = sorted_dists[-n:]\n",
        "\n",
        "        print('> users similar to #{}'.format(item_input))\n",
        "\n",
        "        if return_dist:\n",
        "            return dists, closest\n",
        "        \n",
        "        rindex = eskul\n",
        "        SimilarityArr = []\n",
        "        \n",
        "        for close in closest:\n",
        "            similarity = dists[close]\n",
        "\n",
        "            if isinstance(item_input, int):\n",
        "                decoded_id = user_encoded2user.get(close)\n",
        "                SimilarityArr.append({\"similar_users\": decoded_id, \n",
        "                                      \"similarity\": similarity})\n",
        "\n",
        "        Frame = pd.DataFrame(SimilarityArr).sort_values(by=\"similarity\", \n",
        "                                                        ascending=False)\n",
        "        \n",
        "        return Frame\n",
        "    \n",
        "    except:\n",
        "        print('{}!, Not Found in User list'.format(name))"
      ],
      "metadata": {
        "id": "IJcUVFcXz7aD"
      },
      "execution_count": 93,
      "outputs": []
    },
    {
      "cell_type": "code",
      "source": [
        "# menemukan user yang similar dengan random user\n",
        "similar_users = find_similar_users(int(random_user), \n",
        "                                   n=5, \n",
        "                                   neg=False)\n",
        "\n",
        "similar_users = similar_users[similar_users.similarity > 0.2]\n",
        "similar_users = similar_users[similar_users.similar_users != random_user]\n",
        "similar_users.head(5)"
      ],
      "metadata": {
        "colab": {
          "base_uri": "https://localhost:8080/",
          "height": 130
        },
        "id": "a3j0noDg0G78",
        "outputId": "1294e4df-89e6-44a7-ae76-78a50e855660"
      },
      "execution_count": 94,
      "outputs": [
        {
          "output_type": "stream",
          "name": "stdout",
          "text": [
            "> users similar to #2100\n"
          ]
        },
        {
          "output_type": "execute_result",
          "data": {
            "text/html": [
              "<div>\n",
              "<style scoped>\n",
              "    .dataframe tbody tr th:only-of-type {\n",
              "        vertical-align: middle;\n",
              "    }\n",
              "\n",
              "    .dataframe tbody tr th {\n",
              "        vertical-align: top;\n",
              "    }\n",
              "\n",
              "    .dataframe thead th {\n",
              "        text-align: right;\n",
              "    }\n",
              "</style>\n",
              "<table border=\"1\" class=\"dataframe\">\n",
              "  <thead>\n",
              "    <tr style=\"text-align: right;\">\n",
              "      <th></th>\n",
              "      <th>similar_users</th>\n",
              "      <th>similarity</th>\n",
              "    </tr>\n",
              "  </thead>\n",
              "  <tbody>\n",
              "    <tr>\n",
              "      <th>4</th>\n",
              "      <td>2230</td>\n",
              "      <td>0.233319</td>\n",
              "    </tr>\n",
              "    <tr>\n",
              "      <th>3</th>\n",
              "      <td>1280</td>\n",
              "      <td>0.207128</td>\n",
              "    </tr>\n",
              "  </tbody>\n",
              "</table>\n",
              "</div>"
            ],
            "text/plain": [
              "   similar_users  similarity\n",
              "4           2230    0.233319\n",
              "3           1280    0.207128"
            ]
          },
          "metadata": {},
          "execution_count": 94
        }
      ]
    }
  ]
}