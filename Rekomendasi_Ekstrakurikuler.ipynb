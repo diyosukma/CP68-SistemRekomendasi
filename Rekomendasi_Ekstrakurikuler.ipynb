{
  "nbformat": 4,
  "nbformat_minor": 0,
  "metadata": {
    "colab": {
      "name": "Rekomendasi_Ekstrakurikuler.ipynb",
      "provenance": [],
      "authorship_tag": "ABX9TyM57fI0EpInVL21UCSnUJYA",
      "include_colab_link": true
    },
    "kernelspec": {
      "display_name": "Python 3",
      "name": "python3"
    },
    "language_info": {
      "name": "python"
    }
  },
  "cells": [
    {
      "cell_type": "markdown",
      "metadata": {
        "id": "view-in-github",
        "colab_type": "text"
      },
      "source": [
        "<a href=\"https://colab.research.google.com/github/diyosukma/CP68-SistemRekomendasi/blob/main/Rekomendasi_Ekstrakurikuler.ipynb\" target=\"_parent\"><img src=\"https://colab.research.google.com/assets/colab-badge.svg\" alt=\"Open In Colab\"/></a>"
      ]
    },
    {
      "cell_type": "markdown",
      "metadata": {
        "id": "RiLa-Ym0UHAJ"
      },
      "source": [
        "# Laporan Capstone Project Team 68 - Rekomendasi Ekstrakurikuler"
      ]
    },
    {
      "cell_type": "markdown",
      "metadata": {
        "id": "zH7s45MPUSCz"
      },
      "source": [
        "## Tema Proyek - Resource Sharing"
      ]
    },
    {
      "cell_type": "markdown",
      "metadata": {
        "id": "qyS_l7GMVCvC"
      },
      "source": [
        "## Business Understanding\n",
        "Aplikasi ini dibuat untuk membantu para siswa SMA dalam menentukan kegiatan ekstrakurikuler. Sistem rekomendasi dimodelkan dengan metode Content-based Filtering, berdasarkan pengalaman-pengalaman para siswa SMA yang dulu pernah atau sekarang sedang mengikuti ekstrakurikuler. Sistem ini dibuat berdasarkan beberapa faktor yang berpengaruh."
      ]
    },
    {
      "cell_type": "markdown",
      "metadata": {
        "id": "iGSjFBMTUo48"
      },
      "source": [
        "### Latar Belakang\n",
        "Peraturan [Permendikbud nomor 62 tahun 2014](https://jdih.kemdikbud.go.id/arsip/Permendikbud%20Nomor%2062%20Tahun%202014.pdf) tentang kegiatan ekstrakurikuler, menyebutkan bahwa setiap peserta didik memiliki hak mengikuti kegiatan ekstrakurikuler sesuai dengan minat dan bakat mereka. Penentuan pemilihan ekstrakurikuler berdasarkan minat dan bakat terjadi di Sekolah Menengah Atas (SMA) diserahkan sepenuhnya pada siswa. Menurut [Sari dan Simanjuntak (2020)](http://ejournal.upbatam.ac.id/index.php/comasiejournal/article/view/2141/1249) terkadang siswa cenderung bingung memilih ekstrakurikuler dikarenakan orang tua yang tidak suka dengan hobi anaknya atau siswa tersebut menganggap bahwa dirinya tidak sungguh-sungguh dengan hobi dan bakatnya. Maka dari itu dibangun sistem rekomendasi ekstrakurikuler pada siswa SMA dengan harapan membantu para siswa memilih ekstrakurikuler yang sesuai dengan mereka."
      ]
    },
    {
      "cell_type": "markdown",
      "metadata": {
        "id": "8LyxOWnQUtbr"
      },
      "source": [
        "### Problem Statement\n",
        "Bagaimana cara menentukan ekstrakurikuler yang sesuai dengan minat dan keadaan siswa SMA?"
      ]
    },
    {
      "cell_type": "markdown",
      "metadata": {
        "id": "UjO82r8zU1A9"
      },
      "source": [
        "### Research Questions\n",
        "Bagaimana cara membuat sistem rekomendasi ekstrakurikuler untuk anak SMA yang baik dan benar?\n",
        "Apakah Metode Content-Based Filtering cocok digunakan untuk membuat sistem rekomendasi ekstrakurikuler ini?\n",
        "Bagaimana hasil akurasi sistem rekomendasi yang dibuat?\n",
        "Faktor apa yang berpengaruh dalam penentuan ekstrakurikuler siswa SMA?\n"
      ]
    },
    {
      "cell_type": "markdown",
      "metadata": {
        "id": "b1vDxxiiVTNL"
      },
      "source": [
        "## Data Understanding"
      ]
    },
    {
      "cell_type": "markdown",
      "metadata": {
        "id": "YptcfQd1mI7y"
      },
      "source": [
        "Library yang dibutuhkan"
      ]
    },
    {
      "cell_type": "code",
      "metadata": {
        "id": "37TvZwulmLrv"
      },
      "source": [
        "import os\n",
        "import pandas as pd\n",
        "import numpy as np\n",
        "from sklearn.feature_extraction.text import TfidfVectorizer\n",
        "from sklearn.metrics.pairwise import cosine_similarity\n",
        "import tensorflow as tf\n",
        "from tensorflow import keras\n",
        "from tensorflow.keras import layers\n",
        "from pathlib import Path\n",
        "import matplotlib.pyplot as plt"
      ],
      "execution_count": 1,
      "outputs": []
    },
    {
      "cell_type": "markdown",
      "metadata": {
        "id": "7Ytd3z1tmRgx"
      },
      "source": [
        "### Data Loading"
      ]
    },
    {
      "cell_type": "markdown",
      "metadata": {
        "id": "J7FYgTfYmZid"
      },
      "source": [
        "File yang akan digunakan adalah data hasil kuesioner mengenai hubungan ekstrakurikuler dan minat/bakat."
      ]
    },
    {
      "cell_type": "code",
      "metadata": {
        "colab": {
          "base_uri": "https://localhost:8080/",
          "height": 946
        },
        "id": "M5Zses1cnPmK",
        "outputId": "b887f6c7-286c-431d-db9f-180a65470d61"
      },
      "source": [
        "df = pd.read_excel('data_ekstrakurikuler.xlsx')\n",
        "df"
      ],
      "execution_count": 2,
      "outputs": [
        {
          "output_type": "execute_result",
          "data": {
            "text/html": [
              "<div>\n",
              "<style scoped>\n",
              "    .dataframe tbody tr th:only-of-type {\n",
              "        vertical-align: middle;\n",
              "    }\n",
              "\n",
              "    .dataframe tbody tr th {\n",
              "        vertical-align: top;\n",
              "    }\n",
              "\n",
              "    .dataframe thead th {\n",
              "        text-align: right;\n",
              "    }\n",
              "</style>\n",
              "<table border=\"1\" class=\"dataframe\">\n",
              "  <thead>\n",
              "    <tr style=\"text-align: right;\">\n",
              "      <th></th>\n",
              "      <th>Nama</th>\n",
              "      <th>Asal Sekolah</th>\n",
              "      <th>Sulit Memilih</th>\n",
              "      <th>Gender</th>\n",
              "      <th>Agama</th>\n",
              "      <th>Jurusan</th>\n",
              "      <th>Bidang Ekstrakurikuler</th>\n",
              "      <th>Pekerjaan Ibu</th>\n",
              "      <th>Pekerjaan Bapak</th>\n",
              "      <th>Sungguh Berkegiatan</th>\n",
              "      <th>Minat Bakat Tersalurkan</th>\n",
              "      <th>Alasan Memilih</th>\n",
              "      <th>Teman Berpengaruh</th>\n",
              "      <th>Lama Pertemuan</th>\n",
              "      <th>Banyak Pertemuan</th>\n",
              "      <th>Minat Bakat</th>\n",
              "    </tr>\n",
              "  </thead>\n",
              "  <tbody>\n",
              "    <tr>\n",
              "      <th>0</th>\n",
              "      <td>Fahmi Nurfalah</td>\n",
              "      <td>SMA Negeri 5 Sukabumi</td>\n",
              "      <td>Tidak</td>\n",
              "      <td>Laki-laki</td>\n",
              "      <td>Islam</td>\n",
              "      <td>IPS</td>\n",
              "      <td>Kesenian</td>\n",
              "      <td>Ibu Rumah Tangga</td>\n",
              "      <td>Wiraswasta</td>\n",
              "      <td>Ya</td>\n",
              "      <td>Ya</td>\n",
              "      <td>Tekad dari diri sendiri</td>\n",
              "      <td>Ya</td>\n",
              "      <td>Lebih dari 1 Jam</td>\n",
              "      <td>2 Kali Seminggu</td>\n",
              "      <td>Cenderung menyukai untuk bekerja secara berkel...</td>\n",
              "    </tr>\n",
              "    <tr>\n",
              "      <th>1</th>\n",
              "      <td>Fahmi Nurfalah</td>\n",
              "      <td>SMA Negeri 5 Sukabumi</td>\n",
              "      <td>Tidak</td>\n",
              "      <td>Laki-laki</td>\n",
              "      <td>Islam</td>\n",
              "      <td>IPS</td>\n",
              "      <td>Olahraga</td>\n",
              "      <td>Ibu Rumah Tangga</td>\n",
              "      <td>Wiraswasta</td>\n",
              "      <td>Ya</td>\n",
              "      <td>Ya</td>\n",
              "      <td>Tekad dari diri sendiri</td>\n",
              "      <td>Ya</td>\n",
              "      <td>Lebih dari 1 Jam</td>\n",
              "      <td>2 Kali Seminggu</td>\n",
              "      <td>Cenderung menyukai untuk bekerja secara berkel...</td>\n",
              "    </tr>\n",
              "    <tr>\n",
              "      <th>2</th>\n",
              "      <td>Nur Asiah Ramdani</td>\n",
              "      <td>SMA Negeri 1 Kota Sukabumi</td>\n",
              "      <td>Tidak</td>\n",
              "      <td>Perempuan</td>\n",
              "      <td>Islam</td>\n",
              "      <td>IPA</td>\n",
              "      <td>Akademik &amp; Kebahasaan</td>\n",
              "      <td>Ibu rumah tangga</td>\n",
              "      <td>PNS</td>\n",
              "      <td>Ya</td>\n",
              "      <td>Ya</td>\n",
              "      <td>Tekad dari diri sendiri</td>\n",
              "      <td>Ya</td>\n",
              "      <td>1 Jam</td>\n",
              "      <td>1 Kali Seminggu</td>\n",
              "      <td>Menggemari kegiatan yang melibatkan tulisan, M...</td>\n",
              "    </tr>\n",
              "    <tr>\n",
              "      <th>3</th>\n",
              "      <td>Mojang Rucita Wijaksana</td>\n",
              "      <td>SMAN 1CIBADAK</td>\n",
              "      <td>Tidak</td>\n",
              "      <td>Perempuan</td>\n",
              "      <td>Islam</td>\n",
              "      <td>IPA</td>\n",
              "      <td>Olahraga</td>\n",
              "      <td>PNS</td>\n",
              "      <td>PNS</td>\n",
              "      <td>Ya</td>\n",
              "      <td>Ya</td>\n",
              "      <td>Tekad dari diri sendiri</td>\n",
              "      <td>Tidak</td>\n",
              "      <td>Lebih dari 1 Jam</td>\n",
              "      <td>2 Kali Seminggu</td>\n",
              "      <td>Mempertimbangkan baik sisi plus ataupun minus ...</td>\n",
              "    </tr>\n",
              "    <tr>\n",
              "      <th>4</th>\n",
              "      <td>Mojang Rucita Wijaksana</td>\n",
              "      <td>SMAN 1CIBADAK</td>\n",
              "      <td>Tidak</td>\n",
              "      <td>Perempuan</td>\n",
              "      <td>Islam</td>\n",
              "      <td>IPA</td>\n",
              "      <td>Kesenian</td>\n",
              "      <td>PNS</td>\n",
              "      <td>PNS</td>\n",
              "      <td>Ya</td>\n",
              "      <td>Ya</td>\n",
              "      <td>Tekad dari diri sendiri</td>\n",
              "      <td>Tidak</td>\n",
              "      <td>Lebih dari 1 Jam</td>\n",
              "      <td>2 Kali Seminggu</td>\n",
              "      <td>Mempertimbangkan baik sisi plus ataupun minus ...</td>\n",
              "    </tr>\n",
              "    <tr>\n",
              "      <th>...</th>\n",
              "      <td>...</td>\n",
              "      <td>...</td>\n",
              "      <td>...</td>\n",
              "      <td>...</td>\n",
              "      <td>...</td>\n",
              "      <td>...</td>\n",
              "      <td>...</td>\n",
              "      <td>...</td>\n",
              "      <td>...</td>\n",
              "      <td>...</td>\n",
              "      <td>...</td>\n",
              "      <td>...</td>\n",
              "      <td>...</td>\n",
              "      <td>...</td>\n",
              "      <td>...</td>\n",
              "      <td>...</td>\n",
              "    </tr>\n",
              "    <tr>\n",
              "      <th>288</th>\n",
              "      <td>Alfi Rana Lawahizh</td>\n",
              "      <td>SMA 1 Semarang</td>\n",
              "      <td>Tidak</td>\n",
              "      <td>Perempuan</td>\n",
              "      <td>Islam</td>\n",
              "      <td>IPS</td>\n",
              "      <td>Lingkungan Hidup</td>\n",
              "      <td>IRT</td>\n",
              "      <td>Sopir</td>\n",
              "      <td>Ya</td>\n",
              "      <td>Ya</td>\n",
              "      <td>Tekad dari diri sendiri</td>\n",
              "      <td>Ya</td>\n",
              "      <td>Lebih dari 1 Jam</td>\n",
              "      <td>1 Kali Seminggu</td>\n",
              "      <td>Gemar menuangkan ide dalam bentuk tulisan atau...</td>\n",
              "    </tr>\n",
              "    <tr>\n",
              "      <th>289</th>\n",
              "      <td>Theodore Amadeus Pakpahan</td>\n",
              "      <td>SMA 1 Surakarta</td>\n",
              "      <td>Ya</td>\n",
              "      <td>Laki-laki</td>\n",
              "      <td>Kristen Protestan</td>\n",
              "      <td>IPA</td>\n",
              "      <td>Akademik &amp; Kebahasaan</td>\n",
              "      <td>IRT</td>\n",
              "      <td>Karyawan perusahaan</td>\n",
              "      <td>Ya</td>\n",
              "      <td>Ya</td>\n",
              "      <td>Tekad dari diri sendiri</td>\n",
              "      <td>Ya</td>\n",
              "      <td>Lebih dari 1 Jam</td>\n",
              "      <td>2 Kali Seminggu</td>\n",
              "      <td>Menggemari kegiatan yang melibatkan tulisan, M...</td>\n",
              "    </tr>\n",
              "    <tr>\n",
              "      <th>290</th>\n",
              "      <td>Theodore Amadeus Pakpahan</td>\n",
              "      <td>SMA 1 Surakarta</td>\n",
              "      <td>Ya</td>\n",
              "      <td>Laki-laki</td>\n",
              "      <td>Kristen Protestan</td>\n",
              "      <td>IPA</td>\n",
              "      <td>IT</td>\n",
              "      <td>IRT</td>\n",
              "      <td>Karyawan perusahaan</td>\n",
              "      <td>Ya</td>\n",
              "      <td>Ya</td>\n",
              "      <td>Tekad dari diri sendiri</td>\n",
              "      <td>Ya</td>\n",
              "      <td>Lebih dari 1 Jam</td>\n",
              "      <td>2 Kali Seminggu</td>\n",
              "      <td>Menggemari kegiatan yang melibatkan tulisan, M...</td>\n",
              "    </tr>\n",
              "    <tr>\n",
              "      <th>291</th>\n",
              "      <td>Maria Adelia Tian Putri Kusuma</td>\n",
              "      <td>SMA 6 Jakarta</td>\n",
              "      <td>Ya</td>\n",
              "      <td>Perempuan</td>\n",
              "      <td>Kristen Katolik</td>\n",
              "      <td>IPA</td>\n",
              "      <td>Akademik &amp; Kebahasaan</td>\n",
              "      <td>Ibu rumah tangga</td>\n",
              "      <td>Pegawai bank</td>\n",
              "      <td>Ya</td>\n",
              "      <td>Ya</td>\n",
              "      <td>Tekad dari diri sendiri</td>\n",
              "      <td>Ya</td>\n",
              "      <td>Lebih dari 1 Jam</td>\n",
              "      <td>1 Kali Seminggu</td>\n",
              "      <td>Gemar menuangkan ide dalam bentuk tulisan atau...</td>\n",
              "    </tr>\n",
              "    <tr>\n",
              "      <th>292</th>\n",
              "      <td>Maria Adelia Tian Putri Kusuma</td>\n",
              "      <td>SMA 6 Jakarta</td>\n",
              "      <td>Ya</td>\n",
              "      <td>Perempuan</td>\n",
              "      <td>Kristen Katolik</td>\n",
              "      <td>IPA</td>\n",
              "      <td>IT</td>\n",
              "      <td>Ibu rumah tangga</td>\n",
              "      <td>Pegawai bank</td>\n",
              "      <td>Ya</td>\n",
              "      <td>Ya</td>\n",
              "      <td>Tekad dari diri sendiri</td>\n",
              "      <td>Ya</td>\n",
              "      <td>Lebih dari 1 Jam</td>\n",
              "      <td>1 Kali Seminggu</td>\n",
              "      <td>Gemar menuangkan ide dalam bentuk tulisan atau...</td>\n",
              "    </tr>\n",
              "  </tbody>\n",
              "</table>\n",
              "<p>293 rows × 16 columns</p>\n",
              "</div>"
            ],
            "text/plain": [
              "                               Nama  ...                                        Minat Bakat\n",
              "0                    Fahmi Nurfalah  ...  Cenderung menyukai untuk bekerja secara berkel...\n",
              "1                    Fahmi Nurfalah  ...  Cenderung menyukai untuk bekerja secara berkel...\n",
              "2                 Nur Asiah Ramdani  ...  Menggemari kegiatan yang melibatkan tulisan, M...\n",
              "3           Mojang Rucita Wijaksana  ...  Mempertimbangkan baik sisi plus ataupun minus ...\n",
              "4           Mojang Rucita Wijaksana  ...  Mempertimbangkan baik sisi plus ataupun minus ...\n",
              "..                              ...  ...                                                ...\n",
              "288              Alfi Rana Lawahizh  ...  Gemar menuangkan ide dalam bentuk tulisan atau...\n",
              "289       Theodore Amadeus Pakpahan  ...  Menggemari kegiatan yang melibatkan tulisan, M...\n",
              "290       Theodore Amadeus Pakpahan  ...  Menggemari kegiatan yang melibatkan tulisan, M...\n",
              "291  Maria Adelia Tian Putri Kusuma  ...  Gemar menuangkan ide dalam bentuk tulisan atau...\n",
              "292  Maria Adelia Tian Putri Kusuma  ...  Gemar menuangkan ide dalam bentuk tulisan atau...\n",
              "\n",
              "[293 rows x 16 columns]"
            ]
          },
          "metadata": {},
          "execution_count": 2
        }
      ]
    },
    {
      "cell_type": "markdown",
      "metadata": {
        "id": "1wyi0-g6nN7z"
      },
      "source": [
        "### Visualisasi Data"
      ]
    },
    {
      "cell_type": "markdown",
      "metadata": {
        "id": "shNbID-MvBcr"
      },
      "source": [
        "##### Sulit Memilih\n",
        "Dari data yang diperoleh, banyak siswa yang kesulitan saat memilih ekstrakurikuler. Berikut visualisasinya. "
      ]
    },
    {
      "cell_type": "code",
      "metadata": {
        "colab": {
          "base_uri": "https://localhost:8080/",
          "height": 426
        },
        "id": "Zp5SESLwSsAi",
        "outputId": "d480907f-f071-4e51-c2b2-0e7bba78a3f6"
      },
      "source": [
        "value_count_kesulitan = df['Sulit Memilih'].value_counts()\n",
        "\n",
        "fig, ax = plt.subplots()\n",
        "ax.pie([value_count_kesulitan['Ya'], \n",
        "        value_count_kesulitan['Tidak']], \n",
        "        labels=['Ya', 'Tidak'], autopct='%1.1f%%', startangle=45, radius=2)\n",
        "ax.set_title(\"Kesulitan Memilih Ekstrakurikuler\", pad=100)\n",
        "plt.show()"
      ],
      "execution_count": 3,
      "outputs": [
        {
          "output_type": "display_data",
          "data": {
            "image/png": "[encoded data removed]",
            "text/plain": [
              "<Figure size 432x288 with 1 Axes>"
            ]
          },
          "metadata": {}
        }
      ]
    },
    {
      "cell_type": "markdown",
      "metadata": {
        "id": "j43eoPv2vTMj"
      },
      "source": [
        "#### Bidang Ekstrakurikuler\n",
        "Bidang ekstrakurikuler yang paling banyak diminati."
      ]
    },
    {
      "cell_type": "code",
      "metadata": {
        "id": "vZHvaNYNX9oY",
        "colab": {
          "base_uri": "https://localhost:8080/",
          "height": 434
        },
        "outputId": "8973db26-b07d-4cee-807d-14e0e3e0d730"
      },
      "source": [
        "value_count_bidang = df['Bidang Ekstrakurikuler'].value_counts()\n",
        "\n",
        "fig, ax = plt.subplots()\n",
        "ax.pie([value_count_bidang['Akademik & Kebahasaan'], \n",
        "        value_count_bidang['Olahraga'], \n",
        "        value_count_bidang['IT'],\n",
        "        value_count_bidang['Kesenian'],\n",
        "        value_count_bidang['Bela Negara'],\n",
        "        value_count_bidang['Lingkungan Hidup']],\n",
        "        labels=['Akademik & Kebahasan', 'Olahraga', 'IT', 'Kesenian', 'Bela Negara', 'Lingkungan Hidup'], \n",
        "        autopct='%1.1f%%', startangle=45, radius=2)\n",
        "ax.set_title(\"Bidang Ekstrakurikuler\", pad=100)\n",
        "plt.show()"
      ],
      "execution_count": 4,
      "outputs": [
        {
          "output_type": "display_data",
          "data": {
            "image/png": "[encoded data removed]",
            "text/plain": [
              "<Figure size 432x288 with 1 Axes>"
            ]
          },
          "metadata": {}
        }
      ]
    },
    {
      "cell_type": "markdown",
      "metadata": {
        "id": "TAR7-t5ZzNvH"
      },
      "source": [
        "#### Jurusan\n",
        "Yang memilih ekstrakurikuler kebanyakan dari jurusan IPA."
      ]
    },
    {
      "cell_type": "code",
      "metadata": {
        "colab": {
          "base_uri": "https://localhost:8080/",
          "height": 426
        },
        "id": "3u_ZmhTWzOxi",
        "outputId": "e3ea53ed-3952-478a-c62c-66688bbbc76d"
      },
      "source": [
        "value_count_jurusan = df['Jurusan'].value_counts()\n",
        "\n",
        "fig, ax = plt.subplots()\n",
        "ax.pie([value_count_jurusan['IPA'], \n",
        "        value_count_jurusan['IPS'],\n",
        "        value_count_jurusan['Bahasa']], \n",
        "        labels=['IPA', 'IPS', 'Bahasa'], autopct='%1.1f%%', startangle=45, radius=2)\n",
        "ax.set_title(\"Jurusan\", pad=100)\n",
        "plt.show()"
      ],
      "execution_count": 5,
      "outputs": [
        {
          "output_type": "display_data",
          "data": {
            "image/png": "[encoded data removed]",
            "text/plain": [
              "<Figure size 432x288 with 1 Axes>"
            ]
          },
          "metadata": {}
        }
      ]
    },
    {
      "cell_type": "markdown",
      "metadata": {
        "id": "aKrsp0RO0qHT"
      },
      "source": [
        "#### Alasan Memilih Ekstrakurikuler\n",
        "Walaupun banyak yang merasa kesulitan dalam memilih ekstrakurikuler, namun banyak yang memilih ekstrakurikuler atas tekadnya sendiri diikuti dengan alasan pengaruh teman."
      ]
    },
    {
      "cell_type": "code",
      "metadata": {
        "colab": {
          "base_uri": "https://localhost:8080/",
          "height": 424
        },
        "id": "liQ7D0-E05nT",
        "outputId": "e5634dfe-3d23-4e4e-e587-bda6510e3de9"
      },
      "source": [
        "value_count_alasan = df['Alasan Memilih'].value_counts()\n",
        "\n",
        "fig, ax = plt.subplots()\n",
        "ax.pie([value_count_alasan[0], \n",
        "        value_count_alasan[1],\n",
        "        value_count_alasan[2],\n",
        "        value_count_alasan[3]+value_count_alasan[4]+value_count_alasan[5]+value_count_alasan[6]+value_count_alasan[7]], \n",
        "        labels=['Tekad Diri Sendiri', 'Pengaruh Teman', 'Coba-coba', 'Lainnya'], autopct='%1.1f%%', radius=2)\n",
        "ax.set_title(\"Alasan Memilih Ekstrakurikuler\", pad=100)\n",
        "plt.show()"
      ],
      "execution_count": 6,
      "outputs": [
        {
          "output_type": "display_data",
          "data": {
            "image/png": "[encoded data removed]",
            "text/plain": [
              "<Figure size 432x288 with 1 Axes>"
            ]
          },
          "metadata": {}
        }
      ]
    },
    {
      "cell_type": "markdown",
      "metadata": {
        "id": "lE9D01C83Oha"
      },
      "source": [
        "#### Teman Berpengaruh dalam Kegiatan Ekstarkurikuler\n",
        "Walau saat memilih kebanyakan karena tekad diri sendiri, namun dalam berkegiatan teman berpengaruh besar."
      ]
    },
    {
      "cell_type": "code",
      "metadata": {
        "colab": {
          "base_uri": "https://localhost:8080/",
          "height": 425
        },
        "id": "b2OA73MR3bTc",
        "outputId": "4cdf1737-33e0-4628-d561-8b341e0132f7"
      },
      "source": [
        "value_count_teman = df['Teman Berpengaruh'].value_counts()\n",
        "\n",
        "fig, ax = plt.subplots()\n",
        "ax.pie([value_count_teman['Ya'], \n",
        "        value_count_teman['Tidak']], \n",
        "        labels=['Ya', 'Tidak'], autopct='%1.1f%%', radius=2)\n",
        "ax.set_title(\"Apakah teman berpengaruh dalam kegiatan ekstrakurikuler?\", pad=100)\n",
        "plt.show()"
      ],
      "execution_count": 7,
      "outputs": [
        {
          "output_type": "display_data",
          "data": {
            "image/png": "[encoded data removed]",
            "text/plain": [
              "<Figure size 432x288 with 1 Axes>"
            ]
          },
          "metadata": {}
        }
      ]
    },
    {
      "cell_type": "markdown",
      "metadata": {
        "id": "Z_q9q5pm37Tc"
      },
      "source": [
        "#### Gender\n",
        "Kegiatan ekstrakurikuler hampir seimbang diikuti oleh perempuan dan laki-laki."
      ]
    },
    {
      "cell_type": "code",
      "metadata": {
        "colab": {
          "base_uri": "https://localhost:8080/",
          "height": 428
        },
        "id": "5zQnyEkh4EvW",
        "outputId": "79c80e0d-1194-4239-9d13-e5a06134dce7"
      },
      "source": [
        "value_count_gender = df['Gender'].value_counts()\n",
        "\n",
        "fig, ax = plt.subplots()\n",
        "ax.pie([value_count_gender[0], \n",
        "        value_count_gender[1]], \n",
        "        labels=['Perempuan', 'Laki-laki'], autopct='%1.1f%%', startangle=45, radius=2)\n",
        "ax.set_title(\"Gender\", pad=100)\n",
        "plt.show()"
      ],
      "execution_count": 8,
      "outputs": [
        {
          "output_type": "display_data",
          "data": {
            "image/png": "[encoded data removed]",
            "text/plain": [
              "<Figure size 432x288 with 1 Axes>"
            ]
          },
          "metadata": {}
        }
      ]
    },
    {
      "cell_type": "markdown",
      "metadata": {
        "id": "lCn1iYxM4ygv"
      },
      "source": [
        "#### Kesungguhan dalam Ekstrakurikuler\n",
        "Banyak siswa yang bersungguh-sungguh dalam mengikuti kegiatan ekstrakurikuler"
      ]
    },
    {
      "cell_type": "code",
      "metadata": {
        "colab": {
          "base_uri": "https://localhost:8080/",
          "height": 425
        },
        "id": "Qt9JCWW4462H",
        "outputId": "3d5b5efa-b009-476f-fef9-22bc43bd9ff3"
      },
      "source": [
        "value_count_sungguh = df['Sungguh Berkegiatan'].value_counts()\n",
        "\n",
        "fig, ax = plt.subplots()\n",
        "ax.pie([value_count_sungguh['Ya'], \n",
        "        value_count_sungguh['Tidak']], \n",
        "        labels=['Ya', 'Tidak'], autopct='%1.1f%%', radius=2)\n",
        "ax.set_title(\"Apakah bersungguh-sungguh dalam Ekstrakurikuler?\", pad=100)\n",
        "plt.show()"
      ],
      "execution_count": 9,
      "outputs": [
        {
          "output_type": "display_data",
          "data": {
            "image/png": "[encoded data removed]",
            "text/plain": [
              "<Figure size 432x288 with 1 Axes>"
            ]
          },
          "metadata": {}
        }
      ]
    },
    {
      "cell_type": "markdown",
      "metadata": {
        "id": "juY5PudUvYEP"
      },
      "source": [
        "#### Minat Bakat Tersalurkan\n",
        "Ekstrakurikuler terbukti dapat menyalurkan minat dan bakat siswa didasarkan dataset."
      ]
    },
    {
      "cell_type": "code",
      "metadata": {
        "colab": {
          "base_uri": "https://localhost:8080/",
          "height": 425
        },
        "id": "_e3JQJbzmI_S",
        "outputId": "d9d09ebb-88d6-48e1-ccbe-534e3b4cff31"
      },
      "source": [
        "value_count_tersalurkan = df['Minat Bakat Tersalurkan'].value_counts()\n",
        "\n",
        "fig, ax = plt.subplots()\n",
        "ax.pie([value_count_tersalurkan['Ya'], \n",
        "        value_count_tersalurkan['Tidak']], \n",
        "        labels=['Ya', 'Tidak'], autopct='%1.1f%%', radius=2)\n",
        "ax.set_title(\"Minat Bakat Tersalurkan\", pad=100)\n",
        "plt.show()"
      ],
      "execution_count": 10,
      "outputs": [
        {
          "output_type": "display_data",
          "data": {
            "image/png": "[encoded data removed]",
            "text/plain": [
              "<Figure size 432x288 with 1 Axes>"
            ]
          },
          "metadata": {}
        }
      ]
    },
    {
      "cell_type": "markdown",
      "metadata": {
        "id": "z5OOXFOdw06j"
      },
      "source": [
        "### Deskripsi Variabel"
      ]
    },
    {
      "cell_type": "code",
      "metadata": {
        "colab": {
          "base_uri": "https://localhost:8080/"
        },
        "id": "2VCVuzHWusA6",
        "outputId": "5301a4fe-6971-4356-ee4d-597337424fc5"
      },
      "source": [
        "df.info()"
      ],
      "execution_count": 11,
      "outputs": [
        {
          "output_type": "stream",
          "name": "stdout",
          "text": [
            "<class 'pandas.core.frame.DataFrame'>\n",
            "RangeIndex: 293 entries, 0 to 292\n",
            "Data columns (total 16 columns):\n",
            " #   Column                   Non-Null Count  Dtype \n",
            "---  ------                   --------------  ----- \n",
            " 0   Nama                     293 non-null    object\n",
            " 1   Asal Sekolah             293 non-null    object\n",
            " 2   Sulit Memilih            293 non-null    object\n",
            " 3   Gender                   293 non-null    object\n",
            " 4   Agama                    293 non-null    object\n",
            " 5   Jurusan                  293 non-null    object\n",
            " 6   Bidang Ekstrakurikuler   293 non-null    object\n",
            " 7   Pekerjaan Ibu            293 non-null    object\n",
            " 8   Pekerjaan Bapak          293 non-null    object\n",
            " 9   Sungguh Berkegiatan      293 non-null    object\n",
            " 10  Minat Bakat Tersalurkan  293 non-null    object\n",
            " 11  Alasan Memilih           293 non-null    object\n",
            " 12  Teman Berpengaruh        293 non-null    object\n",
            " 13  Lama Pertemuan           293 non-null    object\n",
            " 14  Banyak Pertemuan         293 non-null    object\n",
            " 15  Minat Bakat              293 non-null    object\n",
            "dtypes: object(16)\n",
            "memory usage: 36.8+ KB\n"
          ]
        }
      ]
    },
    {
      "cell_type": "markdown",
      "metadata": {
        "id": "GMBcFdCzGi69"
      },
      "source": [
        "Dari info di atas, diketahui bahwa dataset memiliki 16 fitur. Namun, untuk fitur Asal Sekolah, Sungguh Berkegiatan, Minat Bakat Tersalurkan dan Alasan Memilih tidak akan digunakan."
      ]
    },
    {
      "cell_type": "code",
      "metadata": {
        "colab": {
          "base_uri": "https://localhost:8080/",
          "height": 310
        },
        "id": "alXGEBBzG3ew",
        "outputId": "71cfd263-ff66-41d4-e535-d622fdff3251"
      },
      "source": [
        "df = df[['Nama', 'Sulit Memilih', 'Gender', 'Agama', 'Jurusan', 'Pekerjaan Ibu','Pekerjaan Bapak', 'Teman Berpengaruh', 'Lama Pertemuan', 'Banyak Pertemuan', 'Minat Bakat', 'Bidang Ekstrakurikuler']]\n",
        "df.head()"
      ],
      "execution_count": 15,
      "outputs": [
        {
          "output_type": "execute_result",
          "data": {
            "text/html": [
              "<div>\n",
              "<style scoped>\n",
              "    .dataframe tbody tr th:only-of-type {\n",
              "        vertical-align: middle;\n",
              "    }\n",
              "\n",
              "    .dataframe tbody tr th {\n",
              "        vertical-align: top;\n",
              "    }\n",
              "\n",
              "    .dataframe thead th {\n",
              "        text-align: right;\n",
              "    }\n",
              "</style>\n",
              "<table border=\"1\" class=\"dataframe\">\n",
              "  <thead>\n",
              "    <tr style=\"text-align: right;\">\n",
              "      <th></th>\n",
              "      <th>Nama</th>\n",
              "      <th>Sulit Memilih</th>\n",
              "      <th>Gender</th>\n",
              "      <th>Agama</th>\n",
              "      <th>Jurusan</th>\n",
              "      <th>Pekerjaan Ibu</th>\n",
              "      <th>Pekerjaan Bapak</th>\n",
              "      <th>Teman Berpengaruh</th>\n",
              "      <th>Lama Pertemuan</th>\n",
              "      <th>Banyak Pertemuan</th>\n",
              "      <th>Minat Bakat</th>\n",
              "      <th>Bidang Ekstrakurikuler</th>\n",
              "    </tr>\n",
              "  </thead>\n",
              "  <tbody>\n",
              "    <tr>\n",
              "      <th>0</th>\n",
              "      <td>Fahmi Nurfalah</td>\n",
              "      <td>Tidak</td>\n",
              "      <td>Laki-laki</td>\n",
              "      <td>Islam</td>\n",
              "      <td>IPS</td>\n",
              "      <td>Ibu Rumah Tangga</td>\n",
              "      <td>Wiraswasta</td>\n",
              "      <td>Ya</td>\n",
              "      <td>Lebih dari 1 Jam</td>\n",
              "      <td>2 Kali Seminggu</td>\n",
              "      <td>Cenderung menyukai untuk bekerja secara berkel...</td>\n",
              "      <td>Kesenian</td>\n",
              "    </tr>\n",
              "    <tr>\n",
              "      <th>1</th>\n",
              "      <td>Fahmi Nurfalah</td>\n",
              "      <td>Tidak</td>\n",
              "      <td>Laki-laki</td>\n",
              "      <td>Islam</td>\n",
              "      <td>IPS</td>\n",
              "      <td>Ibu Rumah Tangga</td>\n",
              "      <td>Wiraswasta</td>\n",
              "      <td>Ya</td>\n",
              "      <td>Lebih dari 1 Jam</td>\n",
              "      <td>2 Kali Seminggu</td>\n",
              "      <td>Cenderung menyukai untuk bekerja secara berkel...</td>\n",
              "      <td>Olahraga</td>\n",
              "    </tr>\n",
              "    <tr>\n",
              "      <th>2</th>\n",
              "      <td>Nur Asiah Ramdani</td>\n",
              "      <td>Tidak</td>\n",
              "      <td>Perempuan</td>\n",
              "      <td>Islam</td>\n",
              "      <td>IPA</td>\n",
              "      <td>Ibu rumah tangga</td>\n",
              "      <td>PNS</td>\n",
              "      <td>Ya</td>\n",
              "      <td>1 Jam</td>\n",
              "      <td>1 Kali Seminggu</td>\n",
              "      <td>Menggemari kegiatan yang melibatkan tulisan, M...</td>\n",
              "      <td>Akademik &amp; Kebahasaan</td>\n",
              "    </tr>\n",
              "    <tr>\n",
              "      <th>3</th>\n",
              "      <td>Mojang Rucita Wijaksana</td>\n",
              "      <td>Tidak</td>\n",
              "      <td>Perempuan</td>\n",
              "      <td>Islam</td>\n",
              "      <td>IPA</td>\n",
              "      <td>PNS</td>\n",
              "      <td>PNS</td>\n",
              "      <td>Tidak</td>\n",
              "      <td>Lebih dari 1 Jam</td>\n",
              "      <td>2 Kali Seminggu</td>\n",
              "      <td>Mempertimbangkan baik sisi plus ataupun minus ...</td>\n",
              "      <td>Olahraga</td>\n",
              "    </tr>\n",
              "    <tr>\n",
              "      <th>4</th>\n",
              "      <td>Mojang Rucita Wijaksana</td>\n",
              "      <td>Tidak</td>\n",
              "      <td>Perempuan</td>\n",
              "      <td>Islam</td>\n",
              "      <td>IPA</td>\n",
              "      <td>PNS</td>\n",
              "      <td>PNS</td>\n",
              "      <td>Tidak</td>\n",
              "      <td>Lebih dari 1 Jam</td>\n",
              "      <td>2 Kali Seminggu</td>\n",
              "      <td>Mempertimbangkan baik sisi plus ataupun minus ...</td>\n",
              "      <td>Kesenian</td>\n",
              "    </tr>\n",
              "  </tbody>\n",
              "</table>\n",
              "</div>"
            ],
            "text/plain": [
              "                      Nama  ... Bidang Ekstrakurikuler\n",
              "0           Fahmi Nurfalah  ...               Kesenian\n",
              "1           Fahmi Nurfalah  ...               Olahraga\n",
              "2        Nur Asiah Ramdani  ...  Akademik & Kebahasaan\n",
              "3  Mojang Rucita Wijaksana  ...               Olahraga\n",
              "4  Mojang Rucita Wijaksana  ...               Kesenian\n",
              "\n",
              "[5 rows x 12 columns]"
            ]
          },
          "metadata": {},
          "execution_count": 15
        }
      ]
    },
    {
      "cell_type": "markdown",
      "metadata": {
        "id": "_a0_Fgp_Hxw7"
      },
      "source": [
        "Dari 293 banyak data, responder terdiri dari 157 orang dengan 6 Bidang Ekstrakurikuler yang dipilih yaitu Kesenian, Olahraga, Akademik & Kebahasaan, Bela Negara, IT dan Lingkungan Hidup."
      ]
    },
    {
      "cell_type": "code",
      "metadata": {
        "colab": {
          "base_uri": "https://localhost:8080/"
        },
        "id": "9W8z0I2GyD6w",
        "outputId": "852e3e0a-3bc8-4827-f532-b624104699e6"
      },
      "source": [
        "print(\"Banyak data : \", df.shape)\n",
        "print(\"Banyak Responder : \", len(df['Nama'].unique()))\n",
        "print(\"Banyak Bidang Ekstrakurikuler : \", len(df['Bidang Ekstrakurikuler'].unique()))\n",
        "print(\"Bidang Ekstrakurikuler : \", df['Bidang Ekstrakurikuler'].unique())"
      ],
      "execution_count": 13,
      "outputs": [
        {
          "output_type": "stream",
          "name": "stdout",
          "text": [
            "Banyak data :  (293, 12)\n",
            "Banyak Responder :  157\n",
            "Banyak Bidang Ekstrakurikuler :  6\n",
            "Bidang Ekstrakurikuler :  ['Kesenian' 'Olahraga' 'Akademik & Kebahasaan' 'Bela Negara' 'IT'\n",
            " 'Lingkungan Hidup']\n"
          ]
        }
      ]
    },
    {
      "cell_type": "markdown",
      "metadata": {
        "id": "Zec17KABxtKH"
      },
      "source": [
        "## Data Preparation"
      ]
    },
    {
      "cell_type": "markdown",
      "metadata": {
        "id": "y3ZImIKgxzzl"
      },
      "source": [
        "### Cek Missing Value"
      ]
    },
    {
      "cell_type": "markdown",
      "metadata": {
        "id": "hvgWVEVYz_SX"
      },
      "source": [
        "Data bebas dari missing value."
      ]
    },
    {
      "cell_type": "code",
      "metadata": {
        "colab": {
          "base_uri": "https://localhost:8080/"
        },
        "id": "yf2UBZymJ7jd",
        "outputId": "63d6f43a-e65f-47bb-f122-bb4028ca9199"
      },
      "source": [
        "df.isnull().sum()"
      ],
      "execution_count": 14,
      "outputs": [
        {
          "output_type": "execute_result",
          "data": {
            "text/plain": [
              "Nama                      0\n",
              "Sulit Memilih             0\n",
              "Gender                    0\n",
              "Agama                     0\n",
              "Jurusan                   0\n",
              "Pekerjaan Ibu             0\n",
              "Pekerjaan Bapak           0\n",
              "Teman Berpengaruh         0\n",
              "Lama Pertemuan            0\n",
              "Banyak Pertemuan          0\n",
              "Minat Bakat               0\n",
              "Bidang Ekstrakurikuler    0\n",
              "dtype: int64"
            ]
          },
          "metadata": {},
          "execution_count": 14
        }
      ]
    },
    {
      "cell_type": "markdown",
      "metadata": {
        "id": "KYRXFtwF0ONA"
      },
      "source": [
        "## Modeling"
      ]
    }
  ]
}